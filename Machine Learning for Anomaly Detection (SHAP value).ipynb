{
 "cells": [
  {
   "cell_type": "markdown",
   "id": "192971ba",
   "metadata": {},
   "source": [
    "# Automated Machine Learning for Loan Default Detection\n",
    "\n",
    "# Table of Contents <a class=\"anchor\" id=\"0\"></a>\n",
    "- <b>[1. Data Preparation](#1)</b>\n",
    "- <b>[2. Feature Engineering](#2)</b>\n",
    "  - [2.1 Binning the numerical variables](#21)\n",
    "  - [2.2 WOE Transformation for Categorical Variables](#22)\n",
    "  - [2.3 FE for Test Set](#23)\n",
    "- <b>[3. Random Forests model](#3)</b>\n",
    "- <b>[4. SHAP Value](#4)</b>\n",
    "- <b>[5. Conclusion](#5)</b>\n",
    "\n",
    "       \n",
    "  <p>&nbsp;</p>"
   ]
  },
  {
   "cell_type": "code",
   "execution_count": 1,
   "id": "18262c82",
   "metadata": {},
   "outputs": [],
   "source": [
    "import numpy as np\n",
    "import pandas as pd\n",
    "np.random.seed(0)\n",
    "import matplotlib.pyplot as plt\n",
    "import seaborn as sns\n",
    "import warnings\n",
    "warnings.filterwarnings('ignore')\n",
    "\n",
    "from sklearn.model_selection import train_test_split\n",
    "from sklearn import preprocessing\n",
    "from sklearn.ensemble import RandomForestRegressor"
   ]
  },
  {
   "cell_type": "markdown",
   "id": "f91581cb",
   "metadata": {},
   "source": [
    "## 1. Data Preparation <a class=\"anchor\" id=\"1\"></a>"
   ]
  },
  {
   "cell_type": "code",
   "execution_count": 2,
   "id": "40583449",
   "metadata": {
    "scrolled": false
   },
   "outputs": [
    {
     "data": {
      "text/html": [
       "<div>\n",
       "<style scoped>\n",
       "    .dataframe tbody tr th:only-of-type {\n",
       "        vertical-align: middle;\n",
       "    }\n",
       "\n",
       "    .dataframe tbody tr th {\n",
       "        vertical-align: top;\n",
       "    }\n",
       "\n",
       "    .dataframe thead th {\n",
       "        text-align: right;\n",
       "    }\n",
       "</style>\n",
       "<table border=\"1\" class=\"dataframe\">\n",
       "  <thead>\n",
       "    <tr style=\"text-align: right;\">\n",
       "      <th></th>\n",
       "      <th>Unnamed: 0.1</th>\n",
       "      <th>Unnamed: 0</th>\n",
       "      <th>id</th>\n",
       "      <th>loan_default</th>\n",
       "      <th>AP001</th>\n",
       "      <th>AP002</th>\n",
       "      <th>AP003</th>\n",
       "      <th>AP004</th>\n",
       "      <th>AP005</th>\n",
       "      <th>AP006</th>\n",
       "      <th>...</th>\n",
       "      <th>CD162</th>\n",
       "      <th>CD164</th>\n",
       "      <th>CD166</th>\n",
       "      <th>CD167</th>\n",
       "      <th>CD169</th>\n",
       "      <th>CD170</th>\n",
       "      <th>CD172</th>\n",
       "      <th>CD173</th>\n",
       "      <th>MB005</th>\n",
       "      <th>MB007</th>\n",
       "    </tr>\n",
       "  </thead>\n",
       "  <tbody>\n",
       "    <tr>\n",
       "      <th>79995</th>\n",
       "      <td>79995</td>\n",
       "      <td>79996</td>\n",
       "      <td>79996</td>\n",
       "      <td>0</td>\n",
       "      <td>39</td>\n",
       "      <td>2</td>\n",
       "      <td>1</td>\n",
       "      <td>12</td>\n",
       "      <td>2017/5/7 13:44</td>\n",
       "      <td>android</td>\n",
       "      <td>...</td>\n",
       "      <td>15.0</td>\n",
       "      <td>8.0</td>\n",
       "      <td>864.0</td>\n",
       "      <td>684.0</td>\n",
       "      <td>1261.0</td>\n",
       "      <td>764.0</td>\n",
       "      <td>2600.0</td>\n",
       "      <td>1074.0</td>\n",
       "      <td>11.0</td>\n",
       "      <td>OPPO</td>\n",
       "    </tr>\n",
       "    <tr>\n",
       "      <th>79996</th>\n",
       "      <td>79996</td>\n",
       "      <td>79997</td>\n",
       "      <td>79997</td>\n",
       "      <td>0</td>\n",
       "      <td>31</td>\n",
       "      <td>1</td>\n",
       "      <td>4</td>\n",
       "      <td>12</td>\n",
       "      <td>2017/6/2 15:54</td>\n",
       "      <td>ios</td>\n",
       "      <td>...</td>\n",
       "      <td>25.0</td>\n",
       "      <td>25.0</td>\n",
       "      <td>6177.0</td>\n",
       "      <td>6177.0</td>\n",
       "      <td>6426.0</td>\n",
       "      <td>6426.0</td>\n",
       "      <td>6426.0</td>\n",
       "      <td>6426.0</td>\n",
       "      <td>6.0</td>\n",
       "      <td>IPHONE7</td>\n",
       "    </tr>\n",
       "    <tr>\n",
       "      <th>79997</th>\n",
       "      <td>79997</td>\n",
       "      <td>79998</td>\n",
       "      <td>79998</td>\n",
       "      <td>0</td>\n",
       "      <td>37</td>\n",
       "      <td>1</td>\n",
       "      <td>1</td>\n",
       "      <td>12</td>\n",
       "      <td>2017/7/9 8:40</td>\n",
       "      <td>android</td>\n",
       "      <td>...</td>\n",
       "      <td>14.0</td>\n",
       "      <td>13.0</td>\n",
       "      <td>1116.0</td>\n",
       "      <td>1116.0</td>\n",
       "      <td>2061.0</td>\n",
       "      <td>2061.0</td>\n",
       "      <td>2501.0</td>\n",
       "      <td>2061.0</td>\n",
       "      <td>12.0</td>\n",
       "      <td>VIVO</td>\n",
       "    </tr>\n",
       "    <tr>\n",
       "      <th>79998</th>\n",
       "      <td>79998</td>\n",
       "      <td>79999</td>\n",
       "      <td>79999</td>\n",
       "      <td>0</td>\n",
       "      <td>38</td>\n",
       "      <td>2</td>\n",
       "      <td>1</td>\n",
       "      <td>12</td>\n",
       "      <td>2017/5/9 10:19</td>\n",
       "      <td>android</td>\n",
       "      <td>...</td>\n",
       "      <td>5.0</td>\n",
       "      <td>2.0</td>\n",
       "      <td>25.0</td>\n",
       "      <td>0.0</td>\n",
       "      <td>498.0</td>\n",
       "      <td>343.0</td>\n",
       "      <td>514.0</td>\n",
       "      <td>343.0</td>\n",
       "      <td>6.0</td>\n",
       "      <td>XIAOMI</td>\n",
       "    </tr>\n",
       "    <tr>\n",
       "      <th>79999</th>\n",
       "      <td>79999</td>\n",
       "      <td>80000</td>\n",
       "      <td>80000</td>\n",
       "      <td>1</td>\n",
       "      <td>25</td>\n",
       "      <td>1</td>\n",
       "      <td>3</td>\n",
       "      <td>12</td>\n",
       "      <td>2017/4/27 18:36</td>\n",
       "      <td>h5</td>\n",
       "      <td>...</td>\n",
       "      <td>9.0</td>\n",
       "      <td>9.0</td>\n",
       "      <td>129.0</td>\n",
       "      <td>129.0</td>\n",
       "      <td>167.0</td>\n",
       "      <td>167.0</td>\n",
       "      <td>167.0</td>\n",
       "      <td>167.0</td>\n",
       "      <td>7.0</td>\n",
       "      <td>WEB</td>\n",
       "    </tr>\n",
       "  </tbody>\n",
       "</table>\n",
       "<p>5 rows × 89 columns</p>\n",
       "</div>"
      ],
      "text/plain": [
       "       Unnamed: 0.1  Unnamed: 0     id  loan_default  AP001  AP002  AP003  \\\n",
       "79995         79995       79996  79996             0     39      2      1   \n",
       "79996         79996       79997  79997             0     31      1      4   \n",
       "79997         79997       79998  79998             0     37      1      1   \n",
       "79998         79998       79999  79999             0     38      2      1   \n",
       "79999         79999       80000  80000             1     25      1      3   \n",
       "\n",
       "       AP004            AP005    AP006  ...  CD162  CD164   CD166   CD167  \\\n",
       "79995     12   2017/5/7 13:44  android  ...   15.0    8.0   864.0   684.0   \n",
       "79996     12   2017/6/2 15:54      ios  ...   25.0   25.0  6177.0  6177.0   \n",
       "79997     12    2017/7/9 8:40  android  ...   14.0   13.0  1116.0  1116.0   \n",
       "79998     12   2017/5/9 10:19  android  ...    5.0    2.0    25.0     0.0   \n",
       "79999     12  2017/4/27 18:36       h5  ...    9.0    9.0   129.0   129.0   \n",
       "\n",
       "        CD169   CD170   CD172   CD173  MB005    MB007  \n",
       "79995  1261.0   764.0  2600.0  1074.0   11.0     OPPO  \n",
       "79996  6426.0  6426.0  6426.0  6426.0    6.0  IPHONE7  \n",
       "79997  2061.0  2061.0  2501.0  2061.0   12.0     VIVO  \n",
       "79998   498.0   343.0   514.0   343.0    6.0   XIAOMI  \n",
       "79999   167.0   167.0   167.0   167.0    7.0      WEB  \n",
       "\n",
       "[5 rows x 89 columns]"
      ]
     },
     "execution_count": 2,
     "metadata": {},
     "output_type": "execute_result"
    }
   ],
   "source": [
    "path = '/Users/mac/Downloads/' \n",
    "df = pd.read_csv(path + 'XYZloan_default_selected_vars.csv')  \n",
    "df.tail()"
   ]
  },
  {
   "cell_type": "code",
   "execution_count": 3,
   "id": "035d977d",
   "metadata": {},
   "outputs": [
    {
     "name": "stdout",
     "output_type": "stream",
     "text": [
      "(80000, 89)\n",
      "Index(['Unnamed: 0.1', 'Unnamed: 0', 'id', 'loan_default', 'AP001', 'AP002',\n",
      "       'AP003', 'AP004', 'AP005', 'AP006', 'AP007', 'AP008', 'AP009', 'TD001',\n",
      "       'TD002', 'TD005', 'TD006', 'TD009', 'TD010', 'TD013', 'TD014', 'TD015',\n",
      "       'TD022', 'TD023', 'TD024', 'TD025', 'TD026', 'TD027', 'TD028', 'TD029',\n",
      "       'TD044', 'TD048', 'TD051', 'TD054', 'TD055', 'TD061', 'TD062', 'CR004',\n",
      "       'CR005', 'CR009', 'CR012', 'CR015', 'CR017', 'CR018', 'CR019', 'PA022',\n",
      "       'PA023', 'PA028', 'PA029', 'PA030', 'PA031', 'CD008', 'CD018', 'CD071',\n",
      "       'CD072', 'CD088', 'CD100', 'CD101', 'CD106', 'CD107', 'CD108', 'CD113',\n",
      "       'CD114', 'CD115', 'CD117', 'CD118', 'CD120', 'CD121', 'CD123', 'CD130',\n",
      "       'CD131', 'CD132', 'CD133', 'CD135', 'CD136', 'CD137', 'CD152', 'CD153',\n",
      "       'CD160', 'CD162', 'CD164', 'CD166', 'CD167', 'CD169', 'CD170', 'CD172',\n",
      "       'CD173', 'MB005', 'MB007'],\n",
      "      dtype='object')\n"
     ]
    },
    {
     "data": {
      "text/html": [
       "<div>\n",
       "<style scoped>\n",
       "    .dataframe tbody tr th:only-of-type {\n",
       "        vertical-align: middle;\n",
       "    }\n",
       "\n",
       "    .dataframe tbody tr th {\n",
       "        vertical-align: top;\n",
       "    }\n",
       "\n",
       "    .dataframe thead th {\n",
       "        text-align: right;\n",
       "    }\n",
       "</style>\n",
       "<table border=\"1\" class=\"dataframe\">\n",
       "  <thead>\n",
       "    <tr style=\"text-align: right;\">\n",
       "      <th></th>\n",
       "      <th>Unnamed: 0.1</th>\n",
       "      <th>Unnamed: 0</th>\n",
       "      <th>id</th>\n",
       "      <th>loan_default</th>\n",
       "      <th>AP001</th>\n",
       "      <th>AP002</th>\n",
       "      <th>AP003</th>\n",
       "      <th>AP004</th>\n",
       "      <th>AP007</th>\n",
       "      <th>AP008</th>\n",
       "      <th>...</th>\n",
       "      <th>CD160</th>\n",
       "      <th>CD162</th>\n",
       "      <th>CD164</th>\n",
       "      <th>CD166</th>\n",
       "      <th>CD167</th>\n",
       "      <th>CD169</th>\n",
       "      <th>CD170</th>\n",
       "      <th>CD172</th>\n",
       "      <th>CD173</th>\n",
       "      <th>MB005</th>\n",
       "    </tr>\n",
       "  </thead>\n",
       "  <tbody>\n",
       "    <tr>\n",
       "      <th>count</th>\n",
       "      <td>80000.000000</td>\n",
       "      <td>80000.000000</td>\n",
       "      <td>80000.000000</td>\n",
       "      <td>80000.000000</td>\n",
       "      <td>80000.000000</td>\n",
       "      <td>80000.000000</td>\n",
       "      <td>80000.000000</td>\n",
       "      <td>80000.000000</td>\n",
       "      <td>80000.00000</td>\n",
       "      <td>80000.000000</td>\n",
       "      <td>...</td>\n",
       "      <td>79619.000000</td>\n",
       "      <td>79619.000000</td>\n",
       "      <td>79619.000000</td>\n",
       "      <td>79619.000000</td>\n",
       "      <td>79619.000000</td>\n",
       "      <td>79619.000000</td>\n",
       "      <td>79619.00000</td>\n",
       "      <td>79619.000000</td>\n",
       "      <td>79619.000000</td>\n",
       "      <td>77207.000000</td>\n",
       "    </tr>\n",
       "    <tr>\n",
       "      <th>mean</th>\n",
       "      <td>39999.500000</td>\n",
       "      <td>40000.500000</td>\n",
       "      <td>40000.500000</td>\n",
       "      <td>0.193600</td>\n",
       "      <td>31.706913</td>\n",
       "      <td>1.321813</td>\n",
       "      <td>2.014925</td>\n",
       "      <td>11.235413</td>\n",
       "      <td>3.30130</td>\n",
       "      <td>3.117200</td>\n",
       "      <td>...</td>\n",
       "      <td>6.911956</td>\n",
       "      <td>14.271694</td>\n",
       "      <td>11.773358</td>\n",
       "      <td>909.089313</td>\n",
       "      <td>810.786219</td>\n",
       "      <td>1732.693314</td>\n",
       "      <td>1539.33443</td>\n",
       "      <td>2513.226491</td>\n",
       "      <td>2229.606137</td>\n",
       "      <td>5.976272</td>\n",
       "    </tr>\n",
       "    <tr>\n",
       "      <th>std</th>\n",
       "      <td>23094.155105</td>\n",
       "      <td>23094.155105</td>\n",
       "      <td>23094.155105</td>\n",
       "      <td>0.395121</td>\n",
       "      <td>7.075070</td>\n",
       "      <td>0.467174</td>\n",
       "      <td>1.196806</td>\n",
       "      <td>2.212313</td>\n",
       "      <td>1.33655</td>\n",
       "      <td>1.306335</td>\n",
       "      <td>...</td>\n",
       "      <td>28.007499</td>\n",
       "      <td>38.235012</td>\n",
       "      <td>33.270641</td>\n",
       "      <td>1379.553332</td>\n",
       "      <td>1245.044602</td>\n",
       "      <td>2441.503517</td>\n",
       "      <td>2172.71384</td>\n",
       "      <td>3404.975112</td>\n",
       "      <td>3005.615048</td>\n",
       "      <td>3.641814</td>\n",
       "    </tr>\n",
       "    <tr>\n",
       "      <th>min</th>\n",
       "      <td>0.000000</td>\n",
       "      <td>1.000000</td>\n",
       "      <td>1.000000</td>\n",
       "      <td>0.000000</td>\n",
       "      <td>20.000000</td>\n",
       "      <td>1.000000</td>\n",
       "      <td>1.000000</td>\n",
       "      <td>3.000000</td>\n",
       "      <td>1.00000</td>\n",
       "      <td>1.000000</td>\n",
       "      <td>...</td>\n",
       "      <td>-99.000000</td>\n",
       "      <td>-99.000000</td>\n",
       "      <td>-99.000000</td>\n",
       "      <td>-99.000000</td>\n",
       "      <td>-99.000000</td>\n",
       "      <td>-99.000000</td>\n",
       "      <td>-99.00000</td>\n",
       "      <td>-99.000000</td>\n",
       "      <td>-99.000000</td>\n",
       "      <td>0.000000</td>\n",
       "    </tr>\n",
       "    <tr>\n",
       "      <th>25%</th>\n",
       "      <td>19999.750000</td>\n",
       "      <td>20000.750000</td>\n",
       "      <td>20000.750000</td>\n",
       "      <td>0.000000</td>\n",
       "      <td>27.000000</td>\n",
       "      <td>1.000000</td>\n",
       "      <td>1.000000</td>\n",
       "      <td>12.000000</td>\n",
       "      <td>2.00000</td>\n",
       "      <td>2.000000</td>\n",
       "      <td>...</td>\n",
       "      <td>2.000000</td>\n",
       "      <td>5.000000</td>\n",
       "      <td>4.000000</td>\n",
       "      <td>84.000000</td>\n",
       "      <td>34.000000</td>\n",
       "      <td>309.000000</td>\n",
       "      <td>226.00000</td>\n",
       "      <td>539.000000</td>\n",
       "      <td>414.000000</td>\n",
       "      <td>3.000000</td>\n",
       "    </tr>\n",
       "    <tr>\n",
       "      <th>50%</th>\n",
       "      <td>39999.500000</td>\n",
       "      <td>40000.500000</td>\n",
       "      <td>40000.500000</td>\n",
       "      <td>0.000000</td>\n",
       "      <td>30.000000</td>\n",
       "      <td>1.000000</td>\n",
       "      <td>1.000000</td>\n",
       "      <td>12.000000</td>\n",
       "      <td>3.00000</td>\n",
       "      <td>3.000000</td>\n",
       "      <td>...</td>\n",
       "      <td>7.000000</td>\n",
       "      <td>12.000000</td>\n",
       "      <td>10.000000</td>\n",
       "      <td>475.000000</td>\n",
       "      <td>397.000000</td>\n",
       "      <td>1023.000000</td>\n",
       "      <td>870.00000</td>\n",
       "      <td>1553.000000</td>\n",
       "      <td>1324.000000</td>\n",
       "      <td>5.000000</td>\n",
       "    </tr>\n",
       "    <tr>\n",
       "      <th>75%</th>\n",
       "      <td>59999.250000</td>\n",
       "      <td>60000.250000</td>\n",
       "      <td>60000.250000</td>\n",
       "      <td>0.000000</td>\n",
       "      <td>35.000000</td>\n",
       "      <td>2.000000</td>\n",
       "      <td>3.000000</td>\n",
       "      <td>12.000000</td>\n",
       "      <td>5.00000</td>\n",
       "      <td>4.000000</td>\n",
       "      <td>...</td>\n",
       "      <td>14.000000</td>\n",
       "      <td>23.000000</td>\n",
       "      <td>20.000000</td>\n",
       "      <td>1209.000000</td>\n",
       "      <td>1080.000000</td>\n",
       "      <td>2287.000000</td>\n",
       "      <td>2030.00000</td>\n",
       "      <td>3296.000000</td>\n",
       "      <td>2936.000000</td>\n",
       "      <td>8.000000</td>\n",
       "    </tr>\n",
       "    <tr>\n",
       "      <th>max</th>\n",
       "      <td>79999.000000</td>\n",
       "      <td>80000.000000</td>\n",
       "      <td>80000.000000</td>\n",
       "      <td>1.000000</td>\n",
       "      <td>56.000000</td>\n",
       "      <td>2.000000</td>\n",
       "      <td>6.000000</td>\n",
       "      <td>12.000000</td>\n",
       "      <td>5.00000</td>\n",
       "      <td>5.000000</td>\n",
       "      <td>...</td>\n",
       "      <td>1061.000000</td>\n",
       "      <td>2792.000000</td>\n",
       "      <td>1579.000000</td>\n",
       "      <td>48585.000000</td>\n",
       "      <td>29664.000000</td>\n",
       "      <td>88364.000000</td>\n",
       "      <td>54651.00000</td>\n",
       "      <td>125352.000000</td>\n",
       "      <td>87312.000000</td>\n",
       "      <td>47.000000</td>\n",
       "    </tr>\n",
       "  </tbody>\n",
       "</table>\n",
       "<p>8 rows × 86 columns</p>\n",
       "</div>"
      ],
      "text/plain": [
       "       Unnamed: 0.1    Unnamed: 0            id  loan_default         AP001  \\\n",
       "count  80000.000000  80000.000000  80000.000000  80000.000000  80000.000000   \n",
       "mean   39999.500000  40000.500000  40000.500000      0.193600     31.706913   \n",
       "std    23094.155105  23094.155105  23094.155105      0.395121      7.075070   \n",
       "min        0.000000      1.000000      1.000000      0.000000     20.000000   \n",
       "25%    19999.750000  20000.750000  20000.750000      0.000000     27.000000   \n",
       "50%    39999.500000  40000.500000  40000.500000      0.000000     30.000000   \n",
       "75%    59999.250000  60000.250000  60000.250000      0.000000     35.000000   \n",
       "max    79999.000000  80000.000000  80000.000000      1.000000     56.000000   \n",
       "\n",
       "              AP002         AP003         AP004        AP007         AP008  \\\n",
       "count  80000.000000  80000.000000  80000.000000  80000.00000  80000.000000   \n",
       "mean       1.321813      2.014925     11.235413      3.30130      3.117200   \n",
       "std        0.467174      1.196806      2.212313      1.33655      1.306335   \n",
       "min        1.000000      1.000000      3.000000      1.00000      1.000000   \n",
       "25%        1.000000      1.000000     12.000000      2.00000      2.000000   \n",
       "50%        1.000000      1.000000     12.000000      3.00000      3.000000   \n",
       "75%        2.000000      3.000000     12.000000      5.00000      4.000000   \n",
       "max        2.000000      6.000000     12.000000      5.00000      5.000000   \n",
       "\n",
       "       ...         CD160         CD162         CD164         CD166  \\\n",
       "count  ...  79619.000000  79619.000000  79619.000000  79619.000000   \n",
       "mean   ...      6.911956     14.271694     11.773358    909.089313   \n",
       "std    ...     28.007499     38.235012     33.270641   1379.553332   \n",
       "min    ...    -99.000000    -99.000000    -99.000000    -99.000000   \n",
       "25%    ...      2.000000      5.000000      4.000000     84.000000   \n",
       "50%    ...      7.000000     12.000000     10.000000    475.000000   \n",
       "75%    ...     14.000000     23.000000     20.000000   1209.000000   \n",
       "max    ...   1061.000000   2792.000000   1579.000000  48585.000000   \n",
       "\n",
       "              CD167         CD169        CD170          CD172         CD173  \\\n",
       "count  79619.000000  79619.000000  79619.00000   79619.000000  79619.000000   \n",
       "mean     810.786219   1732.693314   1539.33443    2513.226491   2229.606137   \n",
       "std     1245.044602   2441.503517   2172.71384    3404.975112   3005.615048   \n",
       "min      -99.000000    -99.000000    -99.00000     -99.000000    -99.000000   \n",
       "25%       34.000000    309.000000    226.00000     539.000000    414.000000   \n",
       "50%      397.000000   1023.000000    870.00000    1553.000000   1324.000000   \n",
       "75%     1080.000000   2287.000000   2030.00000    3296.000000   2936.000000   \n",
       "max    29664.000000  88364.000000  54651.00000  125352.000000  87312.000000   \n",
       "\n",
       "              MB005  \n",
       "count  77207.000000  \n",
       "mean       5.976272  \n",
       "std        3.641814  \n",
       "min        0.000000  \n",
       "25%        3.000000  \n",
       "50%        5.000000  \n",
       "75%        8.000000  \n",
       "max       47.000000  \n",
       "\n",
       "[8 rows x 86 columns]"
      ]
     },
     "execution_count": 3,
     "metadata": {},
     "output_type": "execute_result"
    }
   ],
   "source": [
    "print(df.shape)\n",
    "print(df.columns) # check column names\n",
    "df.describe() # Get the Simple Summary Statistics "
   ]
  },
  {
   "cell_type": "markdown",
   "id": "84ce7bed",
   "metadata": {},
   "source": [
    "The dataset has 80000 rows and 89 columns. Subset the variables for analyzing."
   ]
  },
  {
   "cell_type": "code",
   "execution_count": 4,
   "id": "5cd231ec",
   "metadata": {},
   "outputs": [
    {
     "data": {
      "text/html": [
       "<div>\n",
       "<style scoped>\n",
       "    .dataframe tbody tr th:only-of-type {\n",
       "        vertical-align: middle;\n",
       "    }\n",
       "\n",
       "    .dataframe tbody tr th {\n",
       "        vertical-align: top;\n",
       "    }\n",
       "\n",
       "    .dataframe thead th {\n",
       "        text-align: right;\n",
       "    }\n",
       "</style>\n",
       "<table border=\"1\" class=\"dataframe\">\n",
       "  <thead>\n",
       "    <tr style=\"text-align: right;\">\n",
       "      <th></th>\n",
       "      <th>loan_default</th>\n",
       "      <th>AP001</th>\n",
       "      <th>AP003</th>\n",
       "      <th>AP008</th>\n",
       "      <th>CR009</th>\n",
       "      <th>CR015</th>\n",
       "      <th>CR019</th>\n",
       "      <th>PA022</th>\n",
       "      <th>PA023</th>\n",
       "      <th>PA029</th>\n",
       "      <th>TD001</th>\n",
       "      <th>TD005</th>\n",
       "      <th>TD006</th>\n",
       "      <th>TD009</th>\n",
       "      <th>TD010</th>\n",
       "      <th>TD014</th>\n",
       "    </tr>\n",
       "  </thead>\n",
       "  <tbody>\n",
       "    <tr>\n",
       "      <th>0</th>\n",
       "      <td>1</td>\n",
       "      <td>31</td>\n",
       "      <td>1</td>\n",
       "      <td>3</td>\n",
       "      <td>35807</td>\n",
       "      <td>4</td>\n",
       "      <td>2</td>\n",
       "      <td>-1.0</td>\n",
       "      <td>-1.0</td>\n",
       "      <td>-98.0</td>\n",
       "      <td>1</td>\n",
       "      <td>4</td>\n",
       "      <td>1</td>\n",
       "      <td>5</td>\n",
       "      <td>1</td>\n",
       "      <td>2</td>\n",
       "    </tr>\n",
       "    <tr>\n",
       "      <th>1</th>\n",
       "      <td>0</td>\n",
       "      <td>27</td>\n",
       "      <td>1</td>\n",
       "      <td>4</td>\n",
       "      <td>7254</td>\n",
       "      <td>6</td>\n",
       "      <td>11</td>\n",
       "      <td>-1.0</td>\n",
       "      <td>-1.0</td>\n",
       "      <td>-98.0</td>\n",
       "      <td>2</td>\n",
       "      <td>3</td>\n",
       "      <td>1</td>\n",
       "      <td>3</td>\n",
       "      <td>1</td>\n",
       "      <td>2</td>\n",
       "    </tr>\n",
       "    <tr>\n",
       "      <th>2</th>\n",
       "      <td>0</td>\n",
       "      <td>33</td>\n",
       "      <td>4</td>\n",
       "      <td>2</td>\n",
       "      <td>30377</td>\n",
       "      <td>2</td>\n",
       "      <td>3</td>\n",
       "      <td>-1.0</td>\n",
       "      <td>-1.0</td>\n",
       "      <td>-98.0</td>\n",
       "      <td>2</td>\n",
       "      <td>4</td>\n",
       "      <td>1</td>\n",
       "      <td>5</td>\n",
       "      <td>1</td>\n",
       "      <td>1</td>\n",
       "    </tr>\n",
       "    <tr>\n",
       "      <th>3</th>\n",
       "      <td>0</td>\n",
       "      <td>34</td>\n",
       "      <td>4</td>\n",
       "      <td>5</td>\n",
       "      <td>0</td>\n",
       "      <td>5</td>\n",
       "      <td>8</td>\n",
       "      <td>-1.0</td>\n",
       "      <td>-1.0</td>\n",
       "      <td>-98.0</td>\n",
       "      <td>0</td>\n",
       "      <td>0</td>\n",
       "      <td>0</td>\n",
       "      <td>0</td>\n",
       "      <td>0</td>\n",
       "      <td>1</td>\n",
       "    </tr>\n",
       "    <tr>\n",
       "      <th>4</th>\n",
       "      <td>0</td>\n",
       "      <td>47</td>\n",
       "      <td>1</td>\n",
       "      <td>4</td>\n",
       "      <td>0</td>\n",
       "      <td>6</td>\n",
       "      <td>11</td>\n",
       "      <td>-99.0</td>\n",
       "      <td>-99.0</td>\n",
       "      <td>-99.0</td>\n",
       "      <td>2</td>\n",
       "      <td>2</td>\n",
       "      <td>1</td>\n",
       "      <td>2</td>\n",
       "      <td>1</td>\n",
       "      <td>1</td>\n",
       "    </tr>\n",
       "  </tbody>\n",
       "</table>\n",
       "</div>"
      ],
      "text/plain": [
       "   loan_default  AP001  AP003  AP008  CR009  CR015  CR019  PA022  PA023  \\\n",
       "0             1     31      1      3  35807      4      2   -1.0   -1.0   \n",
       "1             0     27      1      4   7254      6     11   -1.0   -1.0   \n",
       "2             0     33      4      2  30377      2      3   -1.0   -1.0   \n",
       "3             0     34      4      5      0      5      8   -1.0   -1.0   \n",
       "4             0     47      1      4      0      6     11  -99.0  -99.0   \n",
       "\n",
       "   PA029  TD001  TD005  TD006  TD009  TD010  TD014  \n",
       "0  -98.0      1      4      1      5      1      2  \n",
       "1  -98.0      2      3      1      3      1      2  \n",
       "2  -98.0      2      4      1      5      1      1  \n",
       "3  -98.0      0      0      0      0      0      1  \n",
       "4  -99.0      2      2      1      2      1      1  "
      ]
     },
     "execution_count": 4,
     "metadata": {},
     "output_type": "execute_result"
    }
   ],
   "source": [
    "# Select the columns for analysing from original dataset\n",
    "df_cut = df[['loan_default',\n",
    "             'AP001','AP003','AP008',\n",
    "             'CR009','CR015','CR019',\n",
    "             'PA022','PA023','PA029',\n",
    "             'TD001','TD005','TD006','TD009','TD010','TD014']]\n",
    "df_cut.head(5)"
   ]
  },
  {
   "cell_type": "code",
   "execution_count": 5,
   "id": "3f56695f",
   "metadata": {
    "scrolled": true
   },
   "outputs": [
    {
     "data": {
      "text/html": [
       "<div>\n",
       "<style scoped>\n",
       "    .dataframe tbody tr th:only-of-type {\n",
       "        vertical-align: middle;\n",
       "    }\n",
       "\n",
       "    .dataframe tbody tr th {\n",
       "        vertical-align: top;\n",
       "    }\n",
       "\n",
       "    .dataframe thead th {\n",
       "        text-align: right;\n",
       "    }\n",
       "</style>\n",
       "<table border=\"1\" class=\"dataframe\">\n",
       "  <thead>\n",
       "    <tr style=\"text-align: right;\">\n",
       "      <th></th>\n",
       "      <th>Count_of_Missing</th>\n",
       "      <th>Percentage</th>\n",
       "    </tr>\n",
       "  </thead>\n",
       "  <tbody>\n",
       "    <tr>\n",
       "      <th>loan_default</th>\n",
       "      <td>0</td>\n",
       "      <td>0.000000</td>\n",
       "    </tr>\n",
       "    <tr>\n",
       "      <th>AP001</th>\n",
       "      <td>0</td>\n",
       "      <td>0.000000</td>\n",
       "    </tr>\n",
       "    <tr>\n",
       "      <th>AP003</th>\n",
       "      <td>0</td>\n",
       "      <td>0.000000</td>\n",
       "    </tr>\n",
       "    <tr>\n",
       "      <th>AP008</th>\n",
       "      <td>0</td>\n",
       "      <td>0.000000</td>\n",
       "    </tr>\n",
       "    <tr>\n",
       "      <th>CR009</th>\n",
       "      <td>0</td>\n",
       "      <td>0.000000</td>\n",
       "    </tr>\n",
       "    <tr>\n",
       "      <th>CR015</th>\n",
       "      <td>0</td>\n",
       "      <td>0.000000</td>\n",
       "    </tr>\n",
       "    <tr>\n",
       "      <th>CR019</th>\n",
       "      <td>0</td>\n",
       "      <td>0.000000</td>\n",
       "    </tr>\n",
       "    <tr>\n",
       "      <th>PA022</th>\n",
       "      <td>381</td>\n",
       "      <td>0.004763</td>\n",
       "    </tr>\n",
       "    <tr>\n",
       "      <th>PA023</th>\n",
       "      <td>381</td>\n",
       "      <td>0.004763</td>\n",
       "    </tr>\n",
       "    <tr>\n",
       "      <th>PA029</th>\n",
       "      <td>381</td>\n",
       "      <td>0.004763</td>\n",
       "    </tr>\n",
       "    <tr>\n",
       "      <th>TD001</th>\n",
       "      <td>0</td>\n",
       "      <td>0.000000</td>\n",
       "    </tr>\n",
       "    <tr>\n",
       "      <th>TD005</th>\n",
       "      <td>0</td>\n",
       "      <td>0.000000</td>\n",
       "    </tr>\n",
       "    <tr>\n",
       "      <th>TD006</th>\n",
       "      <td>0</td>\n",
       "      <td>0.000000</td>\n",
       "    </tr>\n",
       "    <tr>\n",
       "      <th>TD009</th>\n",
       "      <td>0</td>\n",
       "      <td>0.000000</td>\n",
       "    </tr>\n",
       "    <tr>\n",
       "      <th>TD010</th>\n",
       "      <td>0</td>\n",
       "      <td>0.000000</td>\n",
       "    </tr>\n",
       "    <tr>\n",
       "      <th>TD014</th>\n",
       "      <td>0</td>\n",
       "      <td>0.000000</td>\n",
       "    </tr>\n",
       "  </tbody>\n",
       "</table>\n",
       "</div>"
      ],
      "text/plain": [
       "              Count_of_Missing  Percentage\n",
       "loan_default                 0    0.000000\n",
       "AP001                        0    0.000000\n",
       "AP003                        0    0.000000\n",
       "AP008                        0    0.000000\n",
       "CR009                        0    0.000000\n",
       "CR015                        0    0.000000\n",
       "CR019                        0    0.000000\n",
       "PA022                      381    0.004763\n",
       "PA023                      381    0.004763\n",
       "PA029                      381    0.004763\n",
       "TD001                        0    0.000000\n",
       "TD005                        0    0.000000\n",
       "TD006                        0    0.000000\n",
       "TD009                        0    0.000000\n",
       "TD010                        0    0.000000\n",
       "TD014                        0    0.000000"
      ]
     },
     "execution_count": 5,
     "metadata": {},
     "output_type": "execute_result"
    }
   ],
   "source": [
    "# Check for missing values\n",
    "missing_values = df_cut.isnull().sum()\n",
    "missing_values_per = (df_cut.isnull().sum() / df_cut.isnull().count())\n",
    "pd.concat([missing_values, missing_values_per],axis=1, keys = ['Count_of_Missing','Percentage'])"
   ]
  },
  {
   "cell_type": "markdown",
   "id": "ff35a885",
   "metadata": {},
   "source": [
    "Variable PA022, PA023, and PA029 have missing values. we should encode them later in the feature engineering.  "
   ]
  },
  {
   "cell_type": "code",
   "execution_count": 6,
   "id": "819b9602",
   "metadata": {},
   "outputs": [],
   "source": [
    "features = ['AP001','AP003','AP008',\n",
    "            'CR009','CR015','CR019',\n",
    "            'PA022','PA023','PA029',\n",
    "            'TD001','TD005','TD006','TD009','TD010','TD014']"
   ]
  },
  {
   "cell_type": "code",
   "execution_count": 7,
   "id": "1ce415ae",
   "metadata": {},
   "outputs": [
    {
     "name": "stdout",
     "output_type": "stream",
     "text": [
      "<class 'pandas.core.frame.DataFrame'>\n",
      "RangeIndex: 80000 entries, 0 to 79999\n",
      "Data columns (total 15 columns):\n",
      " #   Column  Non-Null Count  Dtype  \n",
      "---  ------  --------------  -----  \n",
      " 0   AP001   80000 non-null  int64  \n",
      " 1   AP003   80000 non-null  int64  \n",
      " 2   AP008   80000 non-null  int64  \n",
      " 3   CR009   80000 non-null  int64  \n",
      " 4   CR015   80000 non-null  int64  \n",
      " 5   CR019   80000 non-null  int64  \n",
      " 6   PA022   79619 non-null  float64\n",
      " 7   PA023   79619 non-null  float64\n",
      " 8   PA029   79619 non-null  float64\n",
      " 9   TD001   80000 non-null  int64  \n",
      " 10  TD005   80000 non-null  int64  \n",
      " 11  TD006   80000 non-null  int64  \n",
      " 12  TD009   80000 non-null  int64  \n",
      " 13  TD010   80000 non-null  int64  \n",
      " 14  TD014   80000 non-null  int64  \n",
      "dtypes: float64(3), int64(12)\n",
      "memory usage: 9.2 MB\n"
     ]
    }
   ],
   "source": [
    "df[features].info()"
   ]
  },
  {
   "cell_type": "markdown",
   "id": "74188df7",
   "metadata": {},
   "source": [
    "## 2. Featrue Engineering <a class=\"anchor\" id=\"2\"></a>\n",
    "### 2.1 Binning the numerical variables<a class=\"anchor\" id=\"21\"></a>\n",
    "We will bin the three call detail variables to categorical variables for later analysis.\n",
    "In the EDA before, we find out that the three call detail variables have some values with extreme higher propotion than the rest. Therefore, it will be more reasonable to bin those values into one seperate category.\n",
    "#### 2.1.1 PA022(DAYS_BTW_APPLICATION_AND_FIRST_COLLECTION_OR_HIGH_RISK_CALL)\n",
    "The values for PA022 lies on \"-1\" much more than others."
   ]
  },
  {
   "cell_type": "code",
   "execution_count": 8,
   "id": "48f195e2",
   "metadata": {},
   "outputs": [
    {
     "data": {
      "text/plain": [
       "-1                 50639\n",
       "(20.0, 59.0]        8065\n",
       "(59.0, 87.0]        7909\n",
       "(87.0, 448.0]       7800\n",
       "(-1.0, 20.0]        3672\n",
       "(-99.001, -1.0]     1534\n",
       "NoData               381\n",
       "Name: PA022_D, dtype: int64"
      ]
     },
     "execution_count": 8,
     "metadata": {},
     "output_type": "execute_result"
    }
   ],
   "source": [
    "# Split the data with 10 percentile and add an additional 'NoData' category for \"NA\".\n",
    "df['PA022_D'] = pd.qcut(df['PA022'],10,duplicates='drop').values.add_categories('NoData')\n",
    "df['PA022_D'] = df['PA022_D'].fillna('NoData').astype('str')\n",
    "\n",
    "# Find the values of '-1' and assign them to the '-1' category\n",
    "df.loc[df['PA022']==-1, 'PA022_D'] = '-1'\n",
    "\n",
    "df.PA022_D.value_counts()"
   ]
  },
  {
   "cell_type": "code",
   "execution_count": 9,
   "id": "5366c57d",
   "metadata": {},
   "outputs": [
    {
     "data": {
      "text/plain": [
       "Text(0.5, 1.0, 'Figure 3.1.1 The Distribution of PA022_D')"
      ]
     },
     "execution_count": 9,
     "metadata": {},
     "output_type": "execute_result"
    },
    {
     "data": {
      "image/png": "[encoded data removed]",
      "text/plain": [
       "<Figure size 432x288 with 1 Axes>"
      ]
     },
     "metadata": {
      "needs_background": "light"
     },
     "output_type": "display_data"
    }
   ],
   "source": [
    "# Plot the distribution of PA022_D\n",
    "plt.figure(figsize=(6,4))\n",
    "g = sns.countplot(x='PA022_D', data=df, \\\n",
    "                  order=['(-99.001, -1.0]','-1','(-1.0, 20.0]','(20.0, 58.0]','(58.0, 87.0]','(87.0, 448.0]','NoData'])\n",
    "g.set_xticklabels(g.get_xticklabels(), rotation=90)\n",
    "plt.title('Figure 3.1.1 The Distribution of PA022_D')"
   ]
  },
  {
   "cell_type": "markdown",
   "id": "a2993705",
   "metadata": {},
   "source": [
    "#### 2.1.2 PA023(DAYS_BTW_APPLICATION_AND_FIRST_COLLECTION_CALL)\n",
    "The values for PA023 lies on \"-1\" much more than others."
   ]
  },
  {
   "cell_type": "code",
   "execution_count": 10,
   "id": "5b893733",
   "metadata": {},
   "outputs": [
    {
     "data": {
      "text/plain": [
       "-1                 56004\n",
       "(41.0, 81.0]        8023\n",
       "(81.0, 448.0]       7793\n",
       "(-1.0, 41.0]        6265\n",
       "(-99.001, -1.0]     1534\n",
       "NoData               381\n",
       "Name: PA023_D, dtype: int64"
      ]
     },
     "execution_count": 10,
     "metadata": {},
     "output_type": "execute_result"
    }
   ],
   "source": [
    "# Split the data with 10 percentile and add an additional 'NoData' category for \"NA\".\n",
    "df['PA023_D'] = pd.qcut(df['PA023'],10,duplicates='drop').values.add_categories('NoData')\n",
    "df['PA023_D'] = df['PA023_D'].fillna('NoData').astype('str')\n",
    "\n",
    "# Find the values of '-1' and assign them to the '-1' category\n",
    "df.loc[df['PA023']==-1, 'PA023_D'] = '-1'\n",
    "\n",
    "df.PA023_D.value_counts()"
   ]
  },
  {
   "cell_type": "code",
   "execution_count": 11,
   "id": "657ac6d8",
   "metadata": {},
   "outputs": [
    {
     "data": {
      "text/plain": [
       "Text(0.5, 1.0, 'Figure 3.1.2 The Distribution of PA023_D')"
      ]
     },
     "execution_count": 11,
     "metadata": {},
     "output_type": "execute_result"
    },
    {
     "data": {
      "image/png": "[encoded data removed]",
      "text/plain": [
       "<Figure size 432x288 with 1 Axes>"
      ]
     },
     "metadata": {
      "needs_background": "light"
     },
     "output_type": "display_data"
    }
   ],
   "source": [
    "# Plot the distribution of PA023_D\n",
    "plt.figure(figsize=(6,4))\n",
    "g = sns.countplot(x='PA023_D', data=df, \\\n",
    "                  order=['(-99.001, -1.0]','-1','(-1.0, 41.0]','(41.0, 81.0]','(81.0, 448.0]','NoData'])\n",
    "g.set_xticklabels(g.get_xticklabels(), rotation=90)\n",
    "plt.title('Figure 3.1.2 The Distribution of PA023_D')"
   ]
  },
  {
   "cell_type": "markdown",
   "id": "3fe8e659",
   "metadata": {},
   "source": [
    "#### 2.1.3 PA029(AVG_LEN_COLLECTION_OR_HIGH_RISK_INBOUND_CALLS)\n",
    "Tthe values for PA029 lies on \"-98\" much more than others."
   ]
  },
  {
   "cell_type": "code",
   "execution_count": 12,
   "id": "f9ba472e",
   "metadata": {},
   "outputs": [
    {
     "data": {
      "text/plain": [
       "-98                 53086\n",
       "(40.0, 80.0]         7968\n",
       "(80.0, 2872.0]       7896\n",
       "(11.0, 40.0]         7896\n",
       "(-99.001, -98.0]     1534\n",
       "(-98.0, 11.0]        1239\n",
       "NoData                381\n",
       "Name: PA029_D, dtype: int64"
      ]
     },
     "execution_count": 12,
     "metadata": {},
     "output_type": "execute_result"
    }
   ],
   "source": [
    "# Split the data with 10 percentile and add an additional 'NoData' category for \"NA\".\n",
    "df['PA029_D'] = pd.qcut(df['PA029'],10,duplicates='drop').values.add_categories('NoData')\n",
    "df['PA029_D'] = df['PA029_D'].fillna('NoData').astype('str')\n",
    "\n",
    "# Find the values of '-98' and assign them to the '-98' category\n",
    "df.loc[df['PA029']==-98, 'PA029_D'] = '-98'\n",
    "\n",
    "df.PA029_D.value_counts()"
   ]
  },
  {
   "cell_type": "code",
   "execution_count": 13,
   "id": "478e30ef",
   "metadata": {},
   "outputs": [
    {
     "data": {
      "text/plain": [
       "Text(0.5, 1.0, 'Figure 3.1.3 The Distribution of PA029_D')"
      ]
     },
     "execution_count": 13,
     "metadata": {},
     "output_type": "execute_result"
    },
    {
     "data": {
      "image/png": "[encoded data removed]",
      "text/plain": [
       "<Figure size 432x288 with 1 Axes>"
      ]
     },
     "metadata": {
      "needs_background": "light"
     },
     "output_type": "display_data"
    }
   ],
   "source": [
    "# Plot the distribution of PA029_D\n",
    "plt.figure(figsize=(6,4))\n",
    "g = sns.countplot(x='PA029_D', data=df, \\\n",
    "                  order=['(-99.001, -98.0]','-98','(-98.0, 11.0]','(11.0, 40.0]','(40.0, 79.5]','(79.5, 2872.0]', 'NoData'])\n",
    "g.set_xticklabels(g.get_xticklabels(), rotation=90)\n",
    "plt.title('Figure 3.1.3 The Distribution of PA029_D')"
   ]
  },
  {
   "cell_type": "markdown",
   "id": "24710c7a",
   "metadata": {},
   "source": [
    "#### [Back to the top](#0)"
   ]
  },
  {
   "cell_type": "markdown",
   "id": "eebc2624",
   "metadata": {},
   "source": [
    "### 2.2 WOE Transformation for Categorical Variables <a class=\"anchor\" id=\"22\"></a>\n",
    "The goal of WOE(Weight of Evidence) transformation is to get the maximum difference among the binned categories relating to the target variable. It counts the number of responders and non-responders in each binned categories, then assigns a numeric value to each of the binned categories."
   ]
  },
  {
   "cell_type": "code",
   "execution_count": 14,
   "id": "43936cfd",
   "metadata": {},
   "outputs": [],
   "source": [
    "# Define a Function for WOE\n",
    "def WOE(var):\n",
    "    df[var] = df[var].fillna('NoData')\n",
    "    k = df[[var,'loan_default']].groupby(var)['loan_default'].agg(['count','sum']).reset_index()\n",
    "    k.columns = [var,'Count','Good']\n",
    "    k['Bad'] = k['Count'] - k['Good']\n",
    "    k['Good %'] = (k['Good'] / k['Good'].sum()*100).round(2)\n",
    "    k['Bad %'] = (k['Bad'] / k['Bad'].sum()*100).round(2)\n",
    "    k[var+'_WOE'] = np.log(k['Good %'] / k['Bad %']).round(2)\n",
    "    k = k.sort_values(by=var+'_WOE')\n",
    "    return(k)"
   ]
  },
  {
   "cell_type": "markdown",
   "id": "050ea561",
   "metadata": {},
   "source": [
    "#### 2.2.1 Applicate Variables\n",
    "In the applicate variables, AP003(CODE_EDUCATION) and AP008(FLAG_IP_CITY_NOT_APPL_CITY) are categorical variables. We can do WOE transformation on them.\n",
    "#### AP003"
   ]
  },
  {
   "cell_type": "code",
   "execution_count": 15,
   "id": "34303cda",
   "metadata": {},
   "outputs": [
    {
     "data": {
      "text/html": [
       "<div>\n",
       "<style scoped>\n",
       "    .dataframe tbody tr th:only-of-type {\n",
       "        vertical-align: middle;\n",
       "    }\n",
       "\n",
       "    .dataframe tbody tr th {\n",
       "        vertical-align: top;\n",
       "    }\n",
       "\n",
       "    .dataframe thead th {\n",
       "        text-align: right;\n",
       "    }\n",
       "</style>\n",
       "<table border=\"1\" class=\"dataframe\">\n",
       "  <thead>\n",
       "    <tr style=\"text-align: right;\">\n",
       "      <th></th>\n",
       "      <th>AP003</th>\n",
       "      <th>Count</th>\n",
       "      <th>Good</th>\n",
       "      <th>Bad</th>\n",
       "      <th>Good %</th>\n",
       "      <th>Bad %</th>\n",
       "      <th>AP003_WOE</th>\n",
       "    </tr>\n",
       "  </thead>\n",
       "  <tbody>\n",
       "    <tr>\n",
       "      <th>4</th>\n",
       "      <td>6</td>\n",
       "      <td>14</td>\n",
       "      <td>0</td>\n",
       "      <td>14</td>\n",
       "      <td>0.00</td>\n",
       "      <td>0.02</td>\n",
       "      <td>-inf</td>\n",
       "    </tr>\n",
       "    <tr>\n",
       "      <th>3</th>\n",
       "      <td>5</td>\n",
       "      <td>232</td>\n",
       "      <td>14</td>\n",
       "      <td>218</td>\n",
       "      <td>0.09</td>\n",
       "      <td>0.34</td>\n",
       "      <td>-1.33</td>\n",
       "    </tr>\n",
       "    <tr>\n",
       "      <th>2</th>\n",
       "      <td>4</td>\n",
       "      <td>10846</td>\n",
       "      <td>1365</td>\n",
       "      <td>9481</td>\n",
       "      <td>8.81</td>\n",
       "      <td>14.70</td>\n",
       "      <td>-0.51</td>\n",
       "    </tr>\n",
       "    <tr>\n",
       "      <th>1</th>\n",
       "      <td>3</td>\n",
       "      <td>23829</td>\n",
       "      <td>4145</td>\n",
       "      <td>19684</td>\n",
       "      <td>26.76</td>\n",
       "      <td>30.51</td>\n",
       "      <td>-0.13</td>\n",
       "    </tr>\n",
       "    <tr>\n",
       "      <th>0</th>\n",
       "      <td>1</td>\n",
       "      <td>45079</td>\n",
       "      <td>9964</td>\n",
       "      <td>35115</td>\n",
       "      <td>64.33</td>\n",
       "      <td>54.43</td>\n",
       "      <td>0.17</td>\n",
       "    </tr>\n",
       "  </tbody>\n",
       "</table>\n",
       "</div>"
      ],
      "text/plain": [
       "   AP003  Count  Good    Bad  Good %  Bad %  AP003_WOE\n",
       "4      6     14     0     14    0.00   0.02       -inf\n",
       "3      5    232    14    218    0.09   0.34      -1.33\n",
       "2      4  10846  1365   9481    8.81  14.70      -0.51\n",
       "1      3  23829  4145  19684   26.76  30.51      -0.13\n",
       "0      1  45079  9964  35115   64.33  54.43       0.17"
      ]
     },
     "execution_count": 15,
     "metadata": {},
     "output_type": "execute_result"
    }
   ],
   "source": [
    "# WOE for AP003\n",
    "k_AP003 = WOE('AP003')\n",
    "k_AP003"
   ]
  },
  {
   "cell_type": "markdown",
   "id": "f5790a60",
   "metadata": {},
   "source": [
    "Noted that AP003 after WOE contains \"-inf\" value which needs futher transformation. "
   ]
  },
  {
   "cell_type": "code",
   "execution_count": 16,
   "id": "8551e0b8",
   "metadata": {},
   "outputs": [
    {
     "data": {
      "text/html": [
       "<div>\n",
       "<style scoped>\n",
       "    .dataframe tbody tr th:only-of-type {\n",
       "        vertical-align: middle;\n",
       "    }\n",
       "\n",
       "    .dataframe tbody tr th {\n",
       "        vertical-align: top;\n",
       "    }\n",
       "\n",
       "    .dataframe thead th {\n",
       "        text-align: right;\n",
       "    }\n",
       "</style>\n",
       "<table border=\"1\" class=\"dataframe\">\n",
       "  <thead>\n",
       "    <tr style=\"text-align: right;\">\n",
       "      <th></th>\n",
       "      <th>AP003</th>\n",
       "      <th>Count</th>\n",
       "      <th>Good</th>\n",
       "      <th>Bad</th>\n",
       "      <th>Good %</th>\n",
       "      <th>Bad %</th>\n",
       "      <th>AP003_WOE</th>\n",
       "    </tr>\n",
       "  </thead>\n",
       "  <tbody>\n",
       "    <tr>\n",
       "      <th>4</th>\n",
       "      <td>6</td>\n",
       "      <td>14</td>\n",
       "      <td>0</td>\n",
       "      <td>14</td>\n",
       "      <td>0.00</td>\n",
       "      <td>0.02</td>\n",
       "      <td>-999</td>\n",
       "    </tr>\n",
       "    <tr>\n",
       "      <th>3</th>\n",
       "      <td>5</td>\n",
       "      <td>232</td>\n",
       "      <td>14</td>\n",
       "      <td>218</td>\n",
       "      <td>0.09</td>\n",
       "      <td>0.34</td>\n",
       "      <td>-1.33</td>\n",
       "    </tr>\n",
       "    <tr>\n",
       "      <th>2</th>\n",
       "      <td>4</td>\n",
       "      <td>10846</td>\n",
       "      <td>1365</td>\n",
       "      <td>9481</td>\n",
       "      <td>8.81</td>\n",
       "      <td>14.70</td>\n",
       "      <td>-0.51</td>\n",
       "    </tr>\n",
       "    <tr>\n",
       "      <th>1</th>\n",
       "      <td>3</td>\n",
       "      <td>23829</td>\n",
       "      <td>4145</td>\n",
       "      <td>19684</td>\n",
       "      <td>26.76</td>\n",
       "      <td>30.51</td>\n",
       "      <td>-0.13</td>\n",
       "    </tr>\n",
       "    <tr>\n",
       "      <th>0</th>\n",
       "      <td>1</td>\n",
       "      <td>45079</td>\n",
       "      <td>9964</td>\n",
       "      <td>35115</td>\n",
       "      <td>64.33</td>\n",
       "      <td>54.43</td>\n",
       "      <td>0.17</td>\n",
       "    </tr>\n",
       "  </tbody>\n",
       "</table>\n",
       "</div>"
      ],
      "text/plain": [
       "   AP003  Count  Good    Bad  Good %  Bad % AP003_WOE\n",
       "4      6     14     0     14    0.00   0.02      -999\n",
       "3      5    232    14    218    0.09   0.34     -1.33\n",
       "2      4  10846  1365   9481    8.81  14.70     -0.51\n",
       "1      3  23829  4145  19684   26.76  30.51     -0.13\n",
       "0      1  45079  9964  35115   64.33  54.43      0.17"
      ]
     },
     "execution_count": 16,
     "metadata": {},
     "output_type": "execute_result"
    }
   ],
   "source": [
    "# Replace inf with 9999\n",
    "from numpy import inf\n",
    "k_AP003.loc[k_AP003['AP003_WOE']==-inf, 'AP003_WOE'] = '-999'\n",
    "k_AP003"
   ]
  },
  {
   "cell_type": "code",
   "execution_count": 50,
   "id": "836cc64d",
   "metadata": {},
   "outputs": [],
   "source": [
    "# convert the object into numeric\n",
    "k_AP003['AP003_WOE'] = pd.to_numeric(k_AP003['AP003_WOE'])"
   ]
  },
  {
   "cell_type": "code",
   "execution_count": 51,
   "id": "9808ade7",
   "metadata": {},
   "outputs": [],
   "source": [
    "# Append the WOE value of each category back to the original data\n",
    "df = pd.merge(df, k_AP003[['AP003','AP003_WOE']],\n",
    "                 left_on='AP003',right_on='AP003', how='left')"
   ]
  },
  {
   "cell_type": "markdown",
   "id": "a34aed5d",
   "metadata": {},
   "source": [
    "#### AP008"
   ]
  },
  {
   "cell_type": "code",
   "execution_count": 18,
   "id": "a56cfa69",
   "metadata": {
    "scrolled": true
   },
   "outputs": [
    {
     "data": {
      "text/html": [
       "<div>\n",
       "<style scoped>\n",
       "    .dataframe tbody tr th:only-of-type {\n",
       "        vertical-align: middle;\n",
       "    }\n",
       "\n",
       "    .dataframe tbody tr th {\n",
       "        vertical-align: top;\n",
       "    }\n",
       "\n",
       "    .dataframe thead th {\n",
       "        text-align: right;\n",
       "    }\n",
       "</style>\n",
       "<table border=\"1\" class=\"dataframe\">\n",
       "  <thead>\n",
       "    <tr style=\"text-align: right;\">\n",
       "      <th></th>\n",
       "      <th>AP008</th>\n",
       "      <th>Count</th>\n",
       "      <th>Good</th>\n",
       "      <th>Bad</th>\n",
       "      <th>Good %</th>\n",
       "      <th>Bad %</th>\n",
       "      <th>AP008_WOE</th>\n",
       "    </tr>\n",
       "  </thead>\n",
       "  <tbody>\n",
       "    <tr>\n",
       "      <th>0</th>\n",
       "      <td>1</td>\n",
       "      <td>8438</td>\n",
       "      <td>1420</td>\n",
       "      <td>7018</td>\n",
       "      <td>9.17</td>\n",
       "      <td>10.88</td>\n",
       "      <td>-0.17</td>\n",
       "    </tr>\n",
       "    <tr>\n",
       "      <th>1</th>\n",
       "      <td>2</td>\n",
       "      <td>21882</td>\n",
       "      <td>3921</td>\n",
       "      <td>17961</td>\n",
       "      <td>25.32</td>\n",
       "      <td>27.84</td>\n",
       "      <td>-0.09</td>\n",
       "    </tr>\n",
       "    <tr>\n",
       "      <th>2</th>\n",
       "      <td>3</td>\n",
       "      <td>18471</td>\n",
       "      <td>3613</td>\n",
       "      <td>14858</td>\n",
       "      <td>23.33</td>\n",
       "      <td>23.03</td>\n",
       "      <td>0.01</td>\n",
       "    </tr>\n",
       "    <tr>\n",
       "      <th>3</th>\n",
       "      <td>4</td>\n",
       "      <td>14284</td>\n",
       "      <td>2990</td>\n",
       "      <td>11294</td>\n",
       "      <td>19.31</td>\n",
       "      <td>17.51</td>\n",
       "      <td>0.10</td>\n",
       "    </tr>\n",
       "    <tr>\n",
       "      <th>4</th>\n",
       "      <td>5</td>\n",
       "      <td>16925</td>\n",
       "      <td>3544</td>\n",
       "      <td>13381</td>\n",
       "      <td>22.88</td>\n",
       "      <td>20.74</td>\n",
       "      <td>0.10</td>\n",
       "    </tr>\n",
       "  </tbody>\n",
       "</table>\n",
       "</div>"
      ],
      "text/plain": [
       "   AP008  Count  Good    Bad  Good %  Bad %  AP008_WOE\n",
       "0      1   8438  1420   7018    9.17  10.88      -0.17\n",
       "1      2  21882  3921  17961   25.32  27.84      -0.09\n",
       "2      3  18471  3613  14858   23.33  23.03       0.01\n",
       "3      4  14284  2990  11294   19.31  17.51       0.10\n",
       "4      5  16925  3544  13381   22.88  20.74       0.10"
      ]
     },
     "execution_count": 18,
     "metadata": {},
     "output_type": "execute_result"
    }
   ],
   "source": [
    "# WOE for AP008\n",
    "k_AP008 = WOE('AP008')\n",
    "k_AP008"
   ]
  },
  {
   "cell_type": "code",
   "execution_count": 19,
   "id": "76c9bf73",
   "metadata": {},
   "outputs": [],
   "source": [
    "# Append the WOE value of each category back to the original data\n",
    "df = pd.merge(df, k_AP008[['AP008','AP008_WOE']],\n",
    "                 left_on='AP008',right_on='AP008', how='left')"
   ]
  },
  {
   "cell_type": "code",
   "execution_count": 20,
   "id": "8fc1a029",
   "metadata": {
    "scrolled": false
   },
   "outputs": [
    {
     "data": {
      "text/html": [
       "<div>\n",
       "<style scoped>\n",
       "    .dataframe tbody tr th:only-of-type {\n",
       "        vertical-align: middle;\n",
       "    }\n",
       "\n",
       "    .dataframe tbody tr th {\n",
       "        vertical-align: top;\n",
       "    }\n",
       "\n",
       "    .dataframe thead th {\n",
       "        text-align: right;\n",
       "    }\n",
       "</style>\n",
       "<table border=\"1\" class=\"dataframe\">\n",
       "  <thead>\n",
       "    <tr style=\"text-align: right;\">\n",
       "      <th></th>\n",
       "      <th>Unnamed: 0.1</th>\n",
       "      <th>Unnamed: 0</th>\n",
       "      <th>id</th>\n",
       "      <th>loan_default</th>\n",
       "      <th>AP001</th>\n",
       "      <th>AP002</th>\n",
       "      <th>AP003</th>\n",
       "      <th>AP004</th>\n",
       "      <th>AP005</th>\n",
       "      <th>AP006</th>\n",
       "      <th>...</th>\n",
       "      <th>CD170</th>\n",
       "      <th>CD172</th>\n",
       "      <th>CD173</th>\n",
       "      <th>MB005</th>\n",
       "      <th>MB007</th>\n",
       "      <th>PA022_D</th>\n",
       "      <th>PA023_D</th>\n",
       "      <th>PA029_D</th>\n",
       "      <th>AP003_WOE</th>\n",
       "      <th>AP008_WOE</th>\n",
       "    </tr>\n",
       "  </thead>\n",
       "  <tbody>\n",
       "    <tr>\n",
       "      <th>0</th>\n",
       "      <td>0</td>\n",
       "      <td>1</td>\n",
       "      <td>1</td>\n",
       "      <td>1</td>\n",
       "      <td>31</td>\n",
       "      <td>2</td>\n",
       "      <td>1</td>\n",
       "      <td>12</td>\n",
       "      <td>2017/7/6 10:21</td>\n",
       "      <td>ios</td>\n",
       "      <td>...</td>\n",
       "      <td>1449.0</td>\n",
       "      <td>2249.0</td>\n",
       "      <td>2249.0</td>\n",
       "      <td>7.0</td>\n",
       "      <td>IPHONE7</td>\n",
       "      <td>-1</td>\n",
       "      <td>-1</td>\n",
       "      <td>-98</td>\n",
       "      <td>0.17</td>\n",
       "      <td>0.01</td>\n",
       "    </tr>\n",
       "    <tr>\n",
       "      <th>1</th>\n",
       "      <td>1</td>\n",
       "      <td>2</td>\n",
       "      <td>2</td>\n",
       "      <td>0</td>\n",
       "      <td>27</td>\n",
       "      <td>1</td>\n",
       "      <td>1</td>\n",
       "      <td>12</td>\n",
       "      <td>2017/4/6 12:51</td>\n",
       "      <td>h5</td>\n",
       "      <td>...</td>\n",
       "      <td>-99.0</td>\n",
       "      <td>-99.0</td>\n",
       "      <td>-99.0</td>\n",
       "      <td>NaN</td>\n",
       "      <td>WEB</td>\n",
       "      <td>-1</td>\n",
       "      <td>-1</td>\n",
       "      <td>-98</td>\n",
       "      <td>0.17</td>\n",
       "      <td>0.10</td>\n",
       "    </tr>\n",
       "    <tr>\n",
       "      <th>2</th>\n",
       "      <td>2</td>\n",
       "      <td>3</td>\n",
       "      <td>3</td>\n",
       "      <td>0</td>\n",
       "      <td>33</td>\n",
       "      <td>1</td>\n",
       "      <td>4</td>\n",
       "      <td>12</td>\n",
       "      <td>2017/7/1 14:11</td>\n",
       "      <td>h5</td>\n",
       "      <td>...</td>\n",
       "      <td>0.0</td>\n",
       "      <td>143.0</td>\n",
       "      <td>110.0</td>\n",
       "      <td>8.0</td>\n",
       "      <td>WEB</td>\n",
       "      <td>-1</td>\n",
       "      <td>-1</td>\n",
       "      <td>-98</td>\n",
       "      <td>-0.51</td>\n",
       "      <td>-0.09</td>\n",
       "    </tr>\n",
       "    <tr>\n",
       "      <th>3</th>\n",
       "      <td>3</td>\n",
       "      <td>4</td>\n",
       "      <td>4</td>\n",
       "      <td>0</td>\n",
       "      <td>34</td>\n",
       "      <td>2</td>\n",
       "      <td>4</td>\n",
       "      <td>12</td>\n",
       "      <td>2017/7/7 10:10</td>\n",
       "      <td>android</td>\n",
       "      <td>...</td>\n",
       "      <td>0.0</td>\n",
       "      <td>0.0</td>\n",
       "      <td>0.0</td>\n",
       "      <td>10.0</td>\n",
       "      <td>OPPO</td>\n",
       "      <td>-1</td>\n",
       "      <td>-1</td>\n",
       "      <td>-98</td>\n",
       "      <td>-0.51</td>\n",
       "      <td>0.10</td>\n",
       "    </tr>\n",
       "    <tr>\n",
       "      <th>4</th>\n",
       "      <td>4</td>\n",
       "      <td>5</td>\n",
       "      <td>5</td>\n",
       "      <td>0</td>\n",
       "      <td>47</td>\n",
       "      <td>2</td>\n",
       "      <td>1</td>\n",
       "      <td>12</td>\n",
       "      <td>2017/7/6 14:37</td>\n",
       "      <td>h5</td>\n",
       "      <td>...</td>\n",
       "      <td>-99.0</td>\n",
       "      <td>-99.0</td>\n",
       "      <td>-99.0</td>\n",
       "      <td>NaN</td>\n",
       "      <td>WEB</td>\n",
       "      <td>(-99.001, -1.0]</td>\n",
       "      <td>(-99.001, -1.0]</td>\n",
       "      <td>(-99.001, -98.0]</td>\n",
       "      <td>0.17</td>\n",
       "      <td>0.10</td>\n",
       "    </tr>\n",
       "  </tbody>\n",
       "</table>\n",
       "<p>5 rows × 94 columns</p>\n",
       "</div>"
      ],
      "text/plain": [
       "   Unnamed: 0.1  Unnamed: 0  id  loan_default  AP001  AP002  AP003  AP004  \\\n",
       "0             0           1   1             1     31      2      1     12   \n",
       "1             1           2   2             0     27      1      1     12   \n",
       "2             2           3   3             0     33      1      4     12   \n",
       "3             3           4   4             0     34      2      4     12   \n",
       "4             4           5   5             0     47      2      1     12   \n",
       "\n",
       "            AP005    AP006  ...   CD170   CD172   CD173  MB005    MB007  \\\n",
       "0  2017/7/6 10:21      ios  ...  1449.0  2249.0  2249.0    7.0  IPHONE7   \n",
       "1  2017/4/6 12:51       h5  ...   -99.0   -99.0   -99.0    NaN      WEB   \n",
       "2  2017/7/1 14:11       h5  ...     0.0   143.0   110.0    8.0      WEB   \n",
       "3  2017/7/7 10:10  android  ...     0.0     0.0     0.0   10.0     OPPO   \n",
       "4  2017/7/6 14:37       h5  ...   -99.0   -99.0   -99.0    NaN      WEB   \n",
       "\n",
       "           PA022_D          PA023_D           PA029_D  AP003_WOE  AP008_WOE  \n",
       "0               -1               -1               -98       0.17       0.01  \n",
       "1               -1               -1               -98       0.17       0.10  \n",
       "2               -1               -1               -98      -0.51      -0.09  \n",
       "3               -1               -1               -98      -0.51       0.10  \n",
       "4  (-99.001, -1.0]  (-99.001, -1.0]  (-99.001, -98.0]       0.17       0.10  \n",
       "\n",
       "[5 rows x 94 columns]"
      ]
     },
     "execution_count": 20,
     "metadata": {},
     "output_type": "execute_result"
    }
   ],
   "source": [
    "# the first 5 records of df dataset after WOE for applicate variables\n",
    "df.head()"
   ]
  },
  {
   "cell_type": "markdown",
   "id": "1f932159",
   "metadata": {},
   "source": [
    "#### 2.2.2 Credit Bureau Variables\n",
    "In credit bureau variables, CR015(MONTH_CREDIT_CARD_MOB_MAX) and CR019(SCORE_SINGLE_DEBIT_CARD_LIMIT) are categorical variables. We can do WOE transformation on them.\n",
    "#### CR015"
   ]
  },
  {
   "cell_type": "code",
   "execution_count": 21,
   "id": "0603a523",
   "metadata": {},
   "outputs": [
    {
     "data": {
      "text/html": [
       "<div>\n",
       "<style scoped>\n",
       "    .dataframe tbody tr th:only-of-type {\n",
       "        vertical-align: middle;\n",
       "    }\n",
       "\n",
       "    .dataframe tbody tr th {\n",
       "        vertical-align: top;\n",
       "    }\n",
       "\n",
       "    .dataframe thead th {\n",
       "        text-align: right;\n",
       "    }\n",
       "</style>\n",
       "<table border=\"1\" class=\"dataframe\">\n",
       "  <thead>\n",
       "    <tr style=\"text-align: right;\">\n",
       "      <th></th>\n",
       "      <th>CR015</th>\n",
       "      <th>Count</th>\n",
       "      <th>Good</th>\n",
       "      <th>Bad</th>\n",
       "      <th>Good %</th>\n",
       "      <th>Bad %</th>\n",
       "      <th>CR015_WOE</th>\n",
       "    </tr>\n",
       "  </thead>\n",
       "  <tbody>\n",
       "    <tr>\n",
       "      <th>4</th>\n",
       "      <td>6</td>\n",
       "      <td>27127</td>\n",
       "      <td>4201</td>\n",
       "      <td>22926</td>\n",
       "      <td>27.12</td>\n",
       "      <td>35.54</td>\n",
       "      <td>-0.27</td>\n",
       "    </tr>\n",
       "    <tr>\n",
       "      <th>0</th>\n",
       "      <td>2</td>\n",
       "      <td>3376</td>\n",
       "      <td>636</td>\n",
       "      <td>2740</td>\n",
       "      <td>4.11</td>\n",
       "      <td>4.25</td>\n",
       "      <td>-0.03</td>\n",
       "    </tr>\n",
       "    <tr>\n",
       "      <th>3</th>\n",
       "      <td>5</td>\n",
       "      <td>34339</td>\n",
       "      <td>7109</td>\n",
       "      <td>27230</td>\n",
       "      <td>45.90</td>\n",
       "      <td>42.21</td>\n",
       "      <td>0.08</td>\n",
       "    </tr>\n",
       "    <tr>\n",
       "      <th>2</th>\n",
       "      <td>4</td>\n",
       "      <td>7297</td>\n",
       "      <td>1595</td>\n",
       "      <td>5702</td>\n",
       "      <td>10.30</td>\n",
       "      <td>8.84</td>\n",
       "      <td>0.15</td>\n",
       "    </tr>\n",
       "    <tr>\n",
       "      <th>1</th>\n",
       "      <td>3</td>\n",
       "      <td>7861</td>\n",
       "      <td>1947</td>\n",
       "      <td>5914</td>\n",
       "      <td>12.57</td>\n",
       "      <td>9.17</td>\n",
       "      <td>0.32</td>\n",
       "    </tr>\n",
       "  </tbody>\n",
       "</table>\n",
       "</div>"
      ],
      "text/plain": [
       "   CR015  Count  Good    Bad  Good %  Bad %  CR015_WOE\n",
       "4      6  27127  4201  22926   27.12  35.54      -0.27\n",
       "0      2   3376   636   2740    4.11   4.25      -0.03\n",
       "3      5  34339  7109  27230   45.90  42.21       0.08\n",
       "2      4   7297  1595   5702   10.30   8.84       0.15\n",
       "1      3   7861  1947   5914   12.57   9.17       0.32"
      ]
     },
     "execution_count": 21,
     "metadata": {},
     "output_type": "execute_result"
    }
   ],
   "source": [
    "# Apply the WOE to CR015\n",
    "k_CR015 = WOE('CR015')\n",
    "k_CR015"
   ]
  },
  {
   "cell_type": "code",
   "execution_count": 22,
   "id": "c2dfde46",
   "metadata": {},
   "outputs": [],
   "source": [
    "# Append the WOE value of each category back to the original data\n",
    "df = pd.merge(df, k_CR015[['CR015','CR015_WOE']],\n",
    "                 left_on='CR015',right_on='CR015', how='left')"
   ]
  },
  {
   "cell_type": "markdown",
   "id": "e865768e",
   "metadata": {},
   "source": [
    "#### CR019"
   ]
  },
  {
   "cell_type": "code",
   "execution_count": 23,
   "id": "ed6ad70f",
   "metadata": {
    "scrolled": true
   },
   "outputs": [
    {
     "data": {
      "text/html": [
       "<div>\n",
       "<style scoped>\n",
       "    .dataframe tbody tr th:only-of-type {\n",
       "        vertical-align: middle;\n",
       "    }\n",
       "\n",
       "    .dataframe tbody tr th {\n",
       "        vertical-align: top;\n",
       "    }\n",
       "\n",
       "    .dataframe thead th {\n",
       "        text-align: right;\n",
       "    }\n",
       "</style>\n",
       "<table border=\"1\" class=\"dataframe\">\n",
       "  <thead>\n",
       "    <tr style=\"text-align: right;\">\n",
       "      <th></th>\n",
       "      <th>CR019</th>\n",
       "      <th>Count</th>\n",
       "      <th>Good</th>\n",
       "      <th>Bad</th>\n",
       "      <th>Good %</th>\n",
       "      <th>Bad %</th>\n",
       "      <th>CR019_WOE</th>\n",
       "    </tr>\n",
       "  </thead>\n",
       "  <tbody>\n",
       "    <tr>\n",
       "      <th>8</th>\n",
       "      <td>9</td>\n",
       "      <td>2893</td>\n",
       "      <td>472</td>\n",
       "      <td>2421</td>\n",
       "      <td>3.05</td>\n",
       "      <td>3.75</td>\n",
       "      <td>-0.21</td>\n",
       "    </tr>\n",
       "    <tr>\n",
       "      <th>11</th>\n",
       "      <td>12</td>\n",
       "      <td>4378</td>\n",
       "      <td>714</td>\n",
       "      <td>3664</td>\n",
       "      <td>4.61</td>\n",
       "      <td>5.68</td>\n",
       "      <td>-0.21</td>\n",
       "    </tr>\n",
       "    <tr>\n",
       "      <th>10</th>\n",
       "      <td>11</td>\n",
       "      <td>13415</td>\n",
       "      <td>2214</td>\n",
       "      <td>11201</td>\n",
       "      <td>14.29</td>\n",
       "      <td>17.36</td>\n",
       "      <td>-0.19</td>\n",
       "    </tr>\n",
       "    <tr>\n",
       "      <th>9</th>\n",
       "      <td>10</td>\n",
       "      <td>2304</td>\n",
       "      <td>408</td>\n",
       "      <td>1896</td>\n",
       "      <td>2.63</td>\n",
       "      <td>2.94</td>\n",
       "      <td>-0.11</td>\n",
       "    </tr>\n",
       "    <tr>\n",
       "      <th>5</th>\n",
       "      <td>6</td>\n",
       "      <td>5178</td>\n",
       "      <td>928</td>\n",
       "      <td>4250</td>\n",
       "      <td>5.99</td>\n",
       "      <td>6.59</td>\n",
       "      <td>-0.10</td>\n",
       "    </tr>\n",
       "    <tr>\n",
       "      <th>7</th>\n",
       "      <td>8</td>\n",
       "      <td>3240</td>\n",
       "      <td>592</td>\n",
       "      <td>2648</td>\n",
       "      <td>3.82</td>\n",
       "      <td>4.10</td>\n",
       "      <td>-0.07</td>\n",
       "    </tr>\n",
       "    <tr>\n",
       "      <th>6</th>\n",
       "      <td>7</td>\n",
       "      <td>6423</td>\n",
       "      <td>1254</td>\n",
       "      <td>5169</td>\n",
       "      <td>8.10</td>\n",
       "      <td>8.01</td>\n",
       "      <td>0.01</td>\n",
       "    </tr>\n",
       "    <tr>\n",
       "      <th>4</th>\n",
       "      <td>5</td>\n",
       "      <td>9594</td>\n",
       "      <td>1887</td>\n",
       "      <td>7707</td>\n",
       "      <td>12.18</td>\n",
       "      <td>11.95</td>\n",
       "      <td>0.02</td>\n",
       "    </tr>\n",
       "    <tr>\n",
       "      <th>3</th>\n",
       "      <td>4</td>\n",
       "      <td>9727</td>\n",
       "      <td>2065</td>\n",
       "      <td>7662</td>\n",
       "      <td>13.33</td>\n",
       "      <td>11.88</td>\n",
       "      <td>0.12</td>\n",
       "    </tr>\n",
       "    <tr>\n",
       "      <th>2</th>\n",
       "      <td>3</td>\n",
       "      <td>13320</td>\n",
       "      <td>2850</td>\n",
       "      <td>10470</td>\n",
       "      <td>18.40</td>\n",
       "      <td>16.23</td>\n",
       "      <td>0.13</td>\n",
       "    </tr>\n",
       "    <tr>\n",
       "      <th>0</th>\n",
       "      <td>1</td>\n",
       "      <td>1098</td>\n",
       "      <td>243</td>\n",
       "      <td>855</td>\n",
       "      <td>1.57</td>\n",
       "      <td>1.33</td>\n",
       "      <td>0.17</td>\n",
       "    </tr>\n",
       "    <tr>\n",
       "      <th>1</th>\n",
       "      <td>2</td>\n",
       "      <td>8430</td>\n",
       "      <td>1861</td>\n",
       "      <td>6569</td>\n",
       "      <td>12.02</td>\n",
       "      <td>10.18</td>\n",
       "      <td>0.17</td>\n",
       "    </tr>\n",
       "  </tbody>\n",
       "</table>\n",
       "</div>"
      ],
      "text/plain": [
       "    CR019  Count  Good    Bad  Good %  Bad %  CR019_WOE\n",
       "8       9   2893   472   2421    3.05   3.75      -0.21\n",
       "11     12   4378   714   3664    4.61   5.68      -0.21\n",
       "10     11  13415  2214  11201   14.29  17.36      -0.19\n",
       "9      10   2304   408   1896    2.63   2.94      -0.11\n",
       "5       6   5178   928   4250    5.99   6.59      -0.10\n",
       "7       8   3240   592   2648    3.82   4.10      -0.07\n",
       "6       7   6423  1254   5169    8.10   8.01       0.01\n",
       "4       5   9594  1887   7707   12.18  11.95       0.02\n",
       "3       4   9727  2065   7662   13.33  11.88       0.12\n",
       "2       3  13320  2850  10470   18.40  16.23       0.13\n",
       "0       1   1098   243    855    1.57   1.33       0.17\n",
       "1       2   8430  1861   6569   12.02  10.18       0.17"
      ]
     },
     "execution_count": 23,
     "metadata": {},
     "output_type": "execute_result"
    }
   ],
   "source": [
    "# WOE for CR019\n",
    "k_CR019 = WOE('CR019')\n",
    "k_CR019"
   ]
  },
  {
   "cell_type": "code",
   "execution_count": 24,
   "id": "03a80119",
   "metadata": {},
   "outputs": [],
   "source": [
    "# Append the WOE value of each category back to the original data\n",
    "df = pd.merge(df, k_CR019[['CR019','CR019_WOE']],\n",
    "                 left_on='CR019',right_on='CR019', how='left')"
   ]
  },
  {
   "cell_type": "code",
   "execution_count": 25,
   "id": "67f31851",
   "metadata": {
    "scrolled": true
   },
   "outputs": [
    {
     "data": {
      "text/html": [
       "<div>\n",
       "<style scoped>\n",
       "    .dataframe tbody tr th:only-of-type {\n",
       "        vertical-align: middle;\n",
       "    }\n",
       "\n",
       "    .dataframe tbody tr th {\n",
       "        vertical-align: top;\n",
       "    }\n",
       "\n",
       "    .dataframe thead th {\n",
       "        text-align: right;\n",
       "    }\n",
       "</style>\n",
       "<table border=\"1\" class=\"dataframe\">\n",
       "  <thead>\n",
       "    <tr style=\"text-align: right;\">\n",
       "      <th></th>\n",
       "      <th>Unnamed: 0.1</th>\n",
       "      <th>Unnamed: 0</th>\n",
       "      <th>id</th>\n",
       "      <th>loan_default</th>\n",
       "      <th>AP001</th>\n",
       "      <th>AP002</th>\n",
       "      <th>AP003</th>\n",
       "      <th>AP004</th>\n",
       "      <th>AP005</th>\n",
       "      <th>AP006</th>\n",
       "      <th>...</th>\n",
       "      <th>CD173</th>\n",
       "      <th>MB005</th>\n",
       "      <th>MB007</th>\n",
       "      <th>PA022_D</th>\n",
       "      <th>PA023_D</th>\n",
       "      <th>PA029_D</th>\n",
       "      <th>AP003_WOE</th>\n",
       "      <th>AP008_WOE</th>\n",
       "      <th>CR015_WOE</th>\n",
       "      <th>CR019_WOE</th>\n",
       "    </tr>\n",
       "  </thead>\n",
       "  <tbody>\n",
       "    <tr>\n",
       "      <th>0</th>\n",
       "      <td>0</td>\n",
       "      <td>1</td>\n",
       "      <td>1</td>\n",
       "      <td>1</td>\n",
       "      <td>31</td>\n",
       "      <td>2</td>\n",
       "      <td>1</td>\n",
       "      <td>12</td>\n",
       "      <td>2017/7/6 10:21</td>\n",
       "      <td>ios</td>\n",
       "      <td>...</td>\n",
       "      <td>2249.0</td>\n",
       "      <td>7.0</td>\n",
       "      <td>IPHONE7</td>\n",
       "      <td>-1</td>\n",
       "      <td>-1</td>\n",
       "      <td>-98</td>\n",
       "      <td>0.17</td>\n",
       "      <td>0.01</td>\n",
       "      <td>0.15</td>\n",
       "      <td>0.17</td>\n",
       "    </tr>\n",
       "    <tr>\n",
       "      <th>1</th>\n",
       "      <td>1</td>\n",
       "      <td>2</td>\n",
       "      <td>2</td>\n",
       "      <td>0</td>\n",
       "      <td>27</td>\n",
       "      <td>1</td>\n",
       "      <td>1</td>\n",
       "      <td>12</td>\n",
       "      <td>2017/4/6 12:51</td>\n",
       "      <td>h5</td>\n",
       "      <td>...</td>\n",
       "      <td>-99.0</td>\n",
       "      <td>NaN</td>\n",
       "      <td>WEB</td>\n",
       "      <td>-1</td>\n",
       "      <td>-1</td>\n",
       "      <td>-98</td>\n",
       "      <td>0.17</td>\n",
       "      <td>0.10</td>\n",
       "      <td>-0.27</td>\n",
       "      <td>-0.19</td>\n",
       "    </tr>\n",
       "    <tr>\n",
       "      <th>2</th>\n",
       "      <td>2</td>\n",
       "      <td>3</td>\n",
       "      <td>3</td>\n",
       "      <td>0</td>\n",
       "      <td>33</td>\n",
       "      <td>1</td>\n",
       "      <td>4</td>\n",
       "      <td>12</td>\n",
       "      <td>2017/7/1 14:11</td>\n",
       "      <td>h5</td>\n",
       "      <td>...</td>\n",
       "      <td>110.0</td>\n",
       "      <td>8.0</td>\n",
       "      <td>WEB</td>\n",
       "      <td>-1</td>\n",
       "      <td>-1</td>\n",
       "      <td>-98</td>\n",
       "      <td>-0.51</td>\n",
       "      <td>-0.09</td>\n",
       "      <td>-0.03</td>\n",
       "      <td>0.13</td>\n",
       "    </tr>\n",
       "    <tr>\n",
       "      <th>3</th>\n",
       "      <td>3</td>\n",
       "      <td>4</td>\n",
       "      <td>4</td>\n",
       "      <td>0</td>\n",
       "      <td>34</td>\n",
       "      <td>2</td>\n",
       "      <td>4</td>\n",
       "      <td>12</td>\n",
       "      <td>2017/7/7 10:10</td>\n",
       "      <td>android</td>\n",
       "      <td>...</td>\n",
       "      <td>0.0</td>\n",
       "      <td>10.0</td>\n",
       "      <td>OPPO</td>\n",
       "      <td>-1</td>\n",
       "      <td>-1</td>\n",
       "      <td>-98</td>\n",
       "      <td>-0.51</td>\n",
       "      <td>0.10</td>\n",
       "      <td>0.08</td>\n",
       "      <td>-0.07</td>\n",
       "    </tr>\n",
       "    <tr>\n",
       "      <th>4</th>\n",
       "      <td>4</td>\n",
       "      <td>5</td>\n",
       "      <td>5</td>\n",
       "      <td>0</td>\n",
       "      <td>47</td>\n",
       "      <td>2</td>\n",
       "      <td>1</td>\n",
       "      <td>12</td>\n",
       "      <td>2017/7/6 14:37</td>\n",
       "      <td>h5</td>\n",
       "      <td>...</td>\n",
       "      <td>-99.0</td>\n",
       "      <td>NaN</td>\n",
       "      <td>WEB</td>\n",
       "      <td>(-99.001, -1.0]</td>\n",
       "      <td>(-99.001, -1.0]</td>\n",
       "      <td>(-99.001, -98.0]</td>\n",
       "      <td>0.17</td>\n",
       "      <td>0.10</td>\n",
       "      <td>-0.27</td>\n",
       "      <td>-0.19</td>\n",
       "    </tr>\n",
       "  </tbody>\n",
       "</table>\n",
       "<p>5 rows × 96 columns</p>\n",
       "</div>"
      ],
      "text/plain": [
       "   Unnamed: 0.1  Unnamed: 0  id  loan_default  AP001  AP002  AP003  AP004  \\\n",
       "0             0           1   1             1     31      2      1     12   \n",
       "1             1           2   2             0     27      1      1     12   \n",
       "2             2           3   3             0     33      1      4     12   \n",
       "3             3           4   4             0     34      2      4     12   \n",
       "4             4           5   5             0     47      2      1     12   \n",
       "\n",
       "            AP005    AP006  ...   CD173  MB005    MB007          PA022_D  \\\n",
       "0  2017/7/6 10:21      ios  ...  2249.0    7.0  IPHONE7               -1   \n",
       "1  2017/4/6 12:51       h5  ...   -99.0    NaN      WEB               -1   \n",
       "2  2017/7/1 14:11       h5  ...   110.0    8.0      WEB               -1   \n",
       "3  2017/7/7 10:10  android  ...     0.0   10.0     OPPO               -1   \n",
       "4  2017/7/6 14:37       h5  ...   -99.0    NaN      WEB  (-99.001, -1.0]   \n",
       "\n",
       "           PA023_D           PA029_D  AP003_WOE  AP008_WOE  CR015_WOE  \\\n",
       "0               -1               -98       0.17       0.01       0.15   \n",
       "1               -1               -98       0.17       0.10      -0.27   \n",
       "2               -1               -98      -0.51      -0.09      -0.03   \n",
       "3               -1               -98      -0.51       0.10       0.08   \n",
       "4  (-99.001, -1.0]  (-99.001, -98.0]       0.17       0.10      -0.27   \n",
       "\n",
       "   CR019_WOE  \n",
       "0       0.17  \n",
       "1      -0.19  \n",
       "2       0.13  \n",
       "3      -0.07  \n",
       "4      -0.19  \n",
       "\n",
       "[5 rows x 96 columns]"
      ]
     },
     "execution_count": 25,
     "metadata": {},
     "output_type": "execute_result"
    }
   ],
   "source": [
    "# the first 5 records of df dataset after WOE for applicate variables\n",
    "df.head()"
   ]
  },
  {
   "cell_type": "markdown",
   "id": "2e336675",
   "metadata": {},
   "source": [
    "#### 2.2.3 Binned Call Detail Variables: PA022_D, PA023_D, and PA029_D\n",
    "The Credit Bureau variables were binned into categorical variables before. Now, we can do WOE transformation to PA022_D, PA023_D, and PA029_D.\n",
    "#### PA022_D"
   ]
  },
  {
   "cell_type": "code",
   "execution_count": 26,
   "id": "efe5ceeb",
   "metadata": {},
   "outputs": [
    {
     "data": {
      "text/html": [
       "<div>\n",
       "<style scoped>\n",
       "    .dataframe tbody tr th:only-of-type {\n",
       "        vertical-align: middle;\n",
       "    }\n",
       "\n",
       "    .dataframe tbody tr th {\n",
       "        vertical-align: top;\n",
       "    }\n",
       "\n",
       "    .dataframe thead th {\n",
       "        text-align: right;\n",
       "    }\n",
       "</style>\n",
       "<table border=\"1\" class=\"dataframe\">\n",
       "  <thead>\n",
       "    <tr style=\"text-align: right;\">\n",
       "      <th></th>\n",
       "      <th>PA022_D</th>\n",
       "      <th>Count</th>\n",
       "      <th>Good</th>\n",
       "      <th>Bad</th>\n",
       "      <th>Good %</th>\n",
       "      <th>Bad %</th>\n",
       "      <th>PA022_D_WOE</th>\n",
       "    </tr>\n",
       "  </thead>\n",
       "  <tbody>\n",
       "    <tr>\n",
       "      <th>1</th>\n",
       "      <td>(-99.001, -1.0]</td>\n",
       "      <td>1534</td>\n",
       "      <td>230</td>\n",
       "      <td>1304</td>\n",
       "      <td>1.49</td>\n",
       "      <td>2.02</td>\n",
       "      <td>-0.30</td>\n",
       "    </tr>\n",
       "    <tr>\n",
       "      <th>5</th>\n",
       "      <td>-1</td>\n",
       "      <td>50639</td>\n",
       "      <td>8662</td>\n",
       "      <td>41977</td>\n",
       "      <td>55.93</td>\n",
       "      <td>65.07</td>\n",
       "      <td>-0.15</td>\n",
       "    </tr>\n",
       "    <tr>\n",
       "      <th>0</th>\n",
       "      <td>(-1.0, 20.0]</td>\n",
       "      <td>3672</td>\n",
       "      <td>827</td>\n",
       "      <td>2845</td>\n",
       "      <td>5.34</td>\n",
       "      <td>4.41</td>\n",
       "      <td>0.19</td>\n",
       "    </tr>\n",
       "    <tr>\n",
       "      <th>2</th>\n",
       "      <td>(20.0, 59.0]</td>\n",
       "      <td>8065</td>\n",
       "      <td>1867</td>\n",
       "      <td>6198</td>\n",
       "      <td>12.05</td>\n",
       "      <td>9.61</td>\n",
       "      <td>0.23</td>\n",
       "    </tr>\n",
       "    <tr>\n",
       "      <th>3</th>\n",
       "      <td>(59.0, 87.0]</td>\n",
       "      <td>7909</td>\n",
       "      <td>1891</td>\n",
       "      <td>6018</td>\n",
       "      <td>12.21</td>\n",
       "      <td>9.33</td>\n",
       "      <td>0.27</td>\n",
       "    </tr>\n",
       "    <tr>\n",
       "      <th>4</th>\n",
       "      <td>(87.0, 448.0]</td>\n",
       "      <td>7800</td>\n",
       "      <td>1916</td>\n",
       "      <td>5884</td>\n",
       "      <td>12.37</td>\n",
       "      <td>9.12</td>\n",
       "      <td>0.30</td>\n",
       "    </tr>\n",
       "    <tr>\n",
       "      <th>6</th>\n",
       "      <td>NoData</td>\n",
       "      <td>381</td>\n",
       "      <td>95</td>\n",
       "      <td>286</td>\n",
       "      <td>0.61</td>\n",
       "      <td>0.44</td>\n",
       "      <td>0.33</td>\n",
       "    </tr>\n",
       "  </tbody>\n",
       "</table>\n",
       "</div>"
      ],
      "text/plain": [
       "           PA022_D  Count  Good    Bad  Good %  Bad %  PA022_D_WOE\n",
       "1  (-99.001, -1.0]   1534   230   1304    1.49   2.02        -0.30\n",
       "5               -1  50639  8662  41977   55.93  65.07        -0.15\n",
       "0     (-1.0, 20.0]   3672   827   2845    5.34   4.41         0.19\n",
       "2     (20.0, 59.0]   8065  1867   6198   12.05   9.61         0.23\n",
       "3     (59.0, 87.0]   7909  1891   6018   12.21   9.33         0.27\n",
       "4    (87.0, 448.0]   7800  1916   5884   12.37   9.12         0.30\n",
       "6           NoData    381    95    286    0.61   0.44         0.33"
      ]
     },
     "execution_count": 26,
     "metadata": {},
     "output_type": "execute_result"
    }
   ],
   "source": [
    "# Apply the WOE to PA022_D\n",
    "k_PA022_D = WOE('PA022_D')\n",
    "k_PA022_D"
   ]
  },
  {
   "cell_type": "code",
   "execution_count": 27,
   "id": "876453cd",
   "metadata": {},
   "outputs": [],
   "source": [
    "# Append the WOE value of each category back to the original data\n",
    "df = pd.merge(df, k_PA022_D[['PA022_D','PA022_D_WOE']],\n",
    "                 left_on='PA022_D',right_on='PA022_D', how='left')"
   ]
  },
  {
   "cell_type": "markdown",
   "id": "d8c10c84",
   "metadata": {},
   "source": [
    "#### PA023_D"
   ]
  },
  {
   "cell_type": "code",
   "execution_count": 28,
   "id": "83059b5b",
   "metadata": {
    "scrolled": true
   },
   "outputs": [
    {
     "data": {
      "text/html": [
       "<div>\n",
       "<style scoped>\n",
       "    .dataframe tbody tr th:only-of-type {\n",
       "        vertical-align: middle;\n",
       "    }\n",
       "\n",
       "    .dataframe tbody tr th {\n",
       "        vertical-align: top;\n",
       "    }\n",
       "\n",
       "    .dataframe thead th {\n",
       "        text-align: right;\n",
       "    }\n",
       "</style>\n",
       "<table border=\"1\" class=\"dataframe\">\n",
       "  <thead>\n",
       "    <tr style=\"text-align: right;\">\n",
       "      <th></th>\n",
       "      <th>PA023_D</th>\n",
       "      <th>Count</th>\n",
       "      <th>Good</th>\n",
       "      <th>Bad</th>\n",
       "      <th>Good %</th>\n",
       "      <th>Bad %</th>\n",
       "      <th>PA023_D_WOE</th>\n",
       "    </tr>\n",
       "  </thead>\n",
       "  <tbody>\n",
       "    <tr>\n",
       "      <th>1</th>\n",
       "      <td>(-99.001, -1.0]</td>\n",
       "      <td>1534</td>\n",
       "      <td>230</td>\n",
       "      <td>1304</td>\n",
       "      <td>1.49</td>\n",
       "      <td>2.02</td>\n",
       "      <td>-0.30</td>\n",
       "    </tr>\n",
       "    <tr>\n",
       "      <th>4</th>\n",
       "      <td>-1</td>\n",
       "      <td>56004</td>\n",
       "      <td>9806</td>\n",
       "      <td>46198</td>\n",
       "      <td>63.31</td>\n",
       "      <td>71.61</td>\n",
       "      <td>-0.12</td>\n",
       "    </tr>\n",
       "    <tr>\n",
       "      <th>0</th>\n",
       "      <td>(-1.0, 41.0]</td>\n",
       "      <td>6265</td>\n",
       "      <td>1462</td>\n",
       "      <td>4803</td>\n",
       "      <td>9.44</td>\n",
       "      <td>7.45</td>\n",
       "      <td>0.24</td>\n",
       "    </tr>\n",
       "    <tr>\n",
       "      <th>2</th>\n",
       "      <td>(41.0, 81.0]</td>\n",
       "      <td>8023</td>\n",
       "      <td>1946</td>\n",
       "      <td>6077</td>\n",
       "      <td>12.56</td>\n",
       "      <td>9.42</td>\n",
       "      <td>0.29</td>\n",
       "    </tr>\n",
       "    <tr>\n",
       "      <th>3</th>\n",
       "      <td>(81.0, 448.0]</td>\n",
       "      <td>7793</td>\n",
       "      <td>1949</td>\n",
       "      <td>5844</td>\n",
       "      <td>12.58</td>\n",
       "      <td>9.06</td>\n",
       "      <td>0.33</td>\n",
       "    </tr>\n",
       "    <tr>\n",
       "      <th>5</th>\n",
       "      <td>NoData</td>\n",
       "      <td>381</td>\n",
       "      <td>95</td>\n",
       "      <td>286</td>\n",
       "      <td>0.61</td>\n",
       "      <td>0.44</td>\n",
       "      <td>0.33</td>\n",
       "    </tr>\n",
       "  </tbody>\n",
       "</table>\n",
       "</div>"
      ],
      "text/plain": [
       "           PA023_D  Count  Good    Bad  Good %  Bad %  PA023_D_WOE\n",
       "1  (-99.001, -1.0]   1534   230   1304    1.49   2.02        -0.30\n",
       "4               -1  56004  9806  46198   63.31  71.61        -0.12\n",
       "0     (-1.0, 41.0]   6265  1462   4803    9.44   7.45         0.24\n",
       "2     (41.0, 81.0]   8023  1946   6077   12.56   9.42         0.29\n",
       "3    (81.0, 448.0]   7793  1949   5844   12.58   9.06         0.33\n",
       "5           NoData    381    95    286    0.61   0.44         0.33"
      ]
     },
     "execution_count": 28,
     "metadata": {},
     "output_type": "execute_result"
    }
   ],
   "source": [
    "# WOE for PA023_D\n",
    "k_PA023_D = WOE('PA023_D')\n",
    "k_PA023_D"
   ]
  },
  {
   "cell_type": "code",
   "execution_count": 29,
   "id": "2b44ea5e",
   "metadata": {},
   "outputs": [],
   "source": [
    "# Append the WOE value of each category back to the original data\n",
    "df = pd.merge(df, k_PA023_D[['PA023_D','PA023_D_WOE']],\n",
    "                 left_on='PA023_D',right_on='PA023_D', how='left')"
   ]
  },
  {
   "cell_type": "markdown",
   "id": "16ab95d6",
   "metadata": {},
   "source": [
    "#### PA029_D"
   ]
  },
  {
   "cell_type": "code",
   "execution_count": 30,
   "id": "a8db2613",
   "metadata": {
    "scrolled": true
   },
   "outputs": [
    {
     "data": {
      "text/html": [
       "<div>\n",
       "<style scoped>\n",
       "    .dataframe tbody tr th:only-of-type {\n",
       "        vertical-align: middle;\n",
       "    }\n",
       "\n",
       "    .dataframe tbody tr th {\n",
       "        vertical-align: top;\n",
       "    }\n",
       "\n",
       "    .dataframe thead th {\n",
       "        text-align: right;\n",
       "    }\n",
       "</style>\n",
       "<table border=\"1\" class=\"dataframe\">\n",
       "  <thead>\n",
       "    <tr style=\"text-align: right;\">\n",
       "      <th></th>\n",
       "      <th>PA029_D</th>\n",
       "      <th>Count</th>\n",
       "      <th>Good</th>\n",
       "      <th>Bad</th>\n",
       "      <th>Good %</th>\n",
       "      <th>Bad %</th>\n",
       "      <th>PA029_D_WOE</th>\n",
       "    </tr>\n",
       "  </thead>\n",
       "  <tbody>\n",
       "    <tr>\n",
       "      <th>1</th>\n",
       "      <td>(-99.001, -98.0]</td>\n",
       "      <td>1534</td>\n",
       "      <td>230</td>\n",
       "      <td>1304</td>\n",
       "      <td>1.49</td>\n",
       "      <td>2.02</td>\n",
       "      <td>-0.30</td>\n",
       "    </tr>\n",
       "    <tr>\n",
       "      <th>5</th>\n",
       "      <td>-98</td>\n",
       "      <td>53086</td>\n",
       "      <td>9225</td>\n",
       "      <td>43861</td>\n",
       "      <td>59.56</td>\n",
       "      <td>67.99</td>\n",
       "      <td>-0.13</td>\n",
       "    </tr>\n",
       "    <tr>\n",
       "      <th>0</th>\n",
       "      <td>(-98.0, 11.0]</td>\n",
       "      <td>1239</td>\n",
       "      <td>243</td>\n",
       "      <td>996</td>\n",
       "      <td>1.57</td>\n",
       "      <td>1.54</td>\n",
       "      <td>0.02</td>\n",
       "    </tr>\n",
       "    <tr>\n",
       "      <th>2</th>\n",
       "      <td>(11.0, 40.0]</td>\n",
       "      <td>7896</td>\n",
       "      <td>1655</td>\n",
       "      <td>6241</td>\n",
       "      <td>10.69</td>\n",
       "      <td>9.67</td>\n",
       "      <td>0.10</td>\n",
       "    </tr>\n",
       "    <tr>\n",
       "      <th>3</th>\n",
       "      <td>(40.0, 80.0]</td>\n",
       "      <td>7968</td>\n",
       "      <td>1999</td>\n",
       "      <td>5969</td>\n",
       "      <td>12.91</td>\n",
       "      <td>9.25</td>\n",
       "      <td>0.33</td>\n",
       "    </tr>\n",
       "    <tr>\n",
       "      <th>6</th>\n",
       "      <td>NoData</td>\n",
       "      <td>381</td>\n",
       "      <td>95</td>\n",
       "      <td>286</td>\n",
       "      <td>0.61</td>\n",
       "      <td>0.44</td>\n",
       "      <td>0.33</td>\n",
       "    </tr>\n",
       "    <tr>\n",
       "      <th>4</th>\n",
       "      <td>(80.0, 2872.0]</td>\n",
       "      <td>7896</td>\n",
       "      <td>2041</td>\n",
       "      <td>5855</td>\n",
       "      <td>13.18</td>\n",
       "      <td>9.08</td>\n",
       "      <td>0.37</td>\n",
       "    </tr>\n",
       "  </tbody>\n",
       "</table>\n",
       "</div>"
      ],
      "text/plain": [
       "            PA029_D  Count  Good    Bad  Good %  Bad %  PA029_D_WOE\n",
       "1  (-99.001, -98.0]   1534   230   1304    1.49   2.02        -0.30\n",
       "5               -98  53086  9225  43861   59.56  67.99        -0.13\n",
       "0     (-98.0, 11.0]   1239   243    996    1.57   1.54         0.02\n",
       "2      (11.0, 40.0]   7896  1655   6241   10.69   9.67         0.10\n",
       "3      (40.0, 80.0]   7968  1999   5969   12.91   9.25         0.33\n",
       "6            NoData    381    95    286    0.61   0.44         0.33\n",
       "4    (80.0, 2872.0]   7896  2041   5855   13.18   9.08         0.37"
      ]
     },
     "execution_count": 30,
     "metadata": {},
     "output_type": "execute_result"
    }
   ],
   "source": [
    "# WOE for PA029_D\n",
    "k_PA029_D = WOE('PA029_D')\n",
    "k_PA029_D"
   ]
  },
  {
   "cell_type": "code",
   "execution_count": 31,
   "id": "f4cace00",
   "metadata": {},
   "outputs": [],
   "source": [
    "# Append the WOE value of each category back to the original data\n",
    "df = pd.merge(df, k_PA029_D[['PA029_D','PA029_D_WOE']],\n",
    "                 left_on='PA029_D',right_on='PA029_D', how='left')"
   ]
  },
  {
   "cell_type": "code",
   "execution_count": 32,
   "id": "7c78451f",
   "metadata": {
    "scrolled": true
   },
   "outputs": [
    {
     "data": {
      "text/html": [
       "<div>\n",
       "<style scoped>\n",
       "    .dataframe tbody tr th:only-of-type {\n",
       "        vertical-align: middle;\n",
       "    }\n",
       "\n",
       "    .dataframe tbody tr th {\n",
       "        vertical-align: top;\n",
       "    }\n",
       "\n",
       "    .dataframe thead th {\n",
       "        text-align: right;\n",
       "    }\n",
       "</style>\n",
       "<table border=\"1\" class=\"dataframe\">\n",
       "  <thead>\n",
       "    <tr style=\"text-align: right;\">\n",
       "      <th></th>\n",
       "      <th>Unnamed: 0.1</th>\n",
       "      <th>Unnamed: 0</th>\n",
       "      <th>id</th>\n",
       "      <th>loan_default</th>\n",
       "      <th>AP001</th>\n",
       "      <th>AP002</th>\n",
       "      <th>AP003</th>\n",
       "      <th>AP004</th>\n",
       "      <th>AP005</th>\n",
       "      <th>AP006</th>\n",
       "      <th>...</th>\n",
       "      <th>PA022_D</th>\n",
       "      <th>PA023_D</th>\n",
       "      <th>PA029_D</th>\n",
       "      <th>AP003_WOE</th>\n",
       "      <th>AP008_WOE</th>\n",
       "      <th>CR015_WOE</th>\n",
       "      <th>CR019_WOE</th>\n",
       "      <th>PA022_D_WOE</th>\n",
       "      <th>PA023_D_WOE</th>\n",
       "      <th>PA029_D_WOE</th>\n",
       "    </tr>\n",
       "  </thead>\n",
       "  <tbody>\n",
       "    <tr>\n",
       "      <th>0</th>\n",
       "      <td>0</td>\n",
       "      <td>1</td>\n",
       "      <td>1</td>\n",
       "      <td>1</td>\n",
       "      <td>31</td>\n",
       "      <td>2</td>\n",
       "      <td>1</td>\n",
       "      <td>12</td>\n",
       "      <td>2017/7/6 10:21</td>\n",
       "      <td>ios</td>\n",
       "      <td>...</td>\n",
       "      <td>-1</td>\n",
       "      <td>-1</td>\n",
       "      <td>-98</td>\n",
       "      <td>0.17</td>\n",
       "      <td>0.01</td>\n",
       "      <td>0.15</td>\n",
       "      <td>0.17</td>\n",
       "      <td>-0.15</td>\n",
       "      <td>-0.12</td>\n",
       "      <td>-0.13</td>\n",
       "    </tr>\n",
       "    <tr>\n",
       "      <th>1</th>\n",
       "      <td>1</td>\n",
       "      <td>2</td>\n",
       "      <td>2</td>\n",
       "      <td>0</td>\n",
       "      <td>27</td>\n",
       "      <td>1</td>\n",
       "      <td>1</td>\n",
       "      <td>12</td>\n",
       "      <td>2017/4/6 12:51</td>\n",
       "      <td>h5</td>\n",
       "      <td>...</td>\n",
       "      <td>-1</td>\n",
       "      <td>-1</td>\n",
       "      <td>-98</td>\n",
       "      <td>0.17</td>\n",
       "      <td>0.10</td>\n",
       "      <td>-0.27</td>\n",
       "      <td>-0.19</td>\n",
       "      <td>-0.15</td>\n",
       "      <td>-0.12</td>\n",
       "      <td>-0.13</td>\n",
       "    </tr>\n",
       "    <tr>\n",
       "      <th>2</th>\n",
       "      <td>2</td>\n",
       "      <td>3</td>\n",
       "      <td>3</td>\n",
       "      <td>0</td>\n",
       "      <td>33</td>\n",
       "      <td>1</td>\n",
       "      <td>4</td>\n",
       "      <td>12</td>\n",
       "      <td>2017/7/1 14:11</td>\n",
       "      <td>h5</td>\n",
       "      <td>...</td>\n",
       "      <td>-1</td>\n",
       "      <td>-1</td>\n",
       "      <td>-98</td>\n",
       "      <td>-0.51</td>\n",
       "      <td>-0.09</td>\n",
       "      <td>-0.03</td>\n",
       "      <td>0.13</td>\n",
       "      <td>-0.15</td>\n",
       "      <td>-0.12</td>\n",
       "      <td>-0.13</td>\n",
       "    </tr>\n",
       "    <tr>\n",
       "      <th>3</th>\n",
       "      <td>3</td>\n",
       "      <td>4</td>\n",
       "      <td>4</td>\n",
       "      <td>0</td>\n",
       "      <td>34</td>\n",
       "      <td>2</td>\n",
       "      <td>4</td>\n",
       "      <td>12</td>\n",
       "      <td>2017/7/7 10:10</td>\n",
       "      <td>android</td>\n",
       "      <td>...</td>\n",
       "      <td>-1</td>\n",
       "      <td>-1</td>\n",
       "      <td>-98</td>\n",
       "      <td>-0.51</td>\n",
       "      <td>0.10</td>\n",
       "      <td>0.08</td>\n",
       "      <td>-0.07</td>\n",
       "      <td>-0.15</td>\n",
       "      <td>-0.12</td>\n",
       "      <td>-0.13</td>\n",
       "    </tr>\n",
       "    <tr>\n",
       "      <th>4</th>\n",
       "      <td>4</td>\n",
       "      <td>5</td>\n",
       "      <td>5</td>\n",
       "      <td>0</td>\n",
       "      <td>47</td>\n",
       "      <td>2</td>\n",
       "      <td>1</td>\n",
       "      <td>12</td>\n",
       "      <td>2017/7/6 14:37</td>\n",
       "      <td>h5</td>\n",
       "      <td>...</td>\n",
       "      <td>(-99.001, -1.0]</td>\n",
       "      <td>(-99.001, -1.0]</td>\n",
       "      <td>(-99.001, -98.0]</td>\n",
       "      <td>0.17</td>\n",
       "      <td>0.10</td>\n",
       "      <td>-0.27</td>\n",
       "      <td>-0.19</td>\n",
       "      <td>-0.30</td>\n",
       "      <td>-0.30</td>\n",
       "      <td>-0.30</td>\n",
       "    </tr>\n",
       "  </tbody>\n",
       "</table>\n",
       "<p>5 rows × 99 columns</p>\n",
       "</div>"
      ],
      "text/plain": [
       "   Unnamed: 0.1  Unnamed: 0  id  loan_default  AP001  AP002  AP003  AP004  \\\n",
       "0             0           1   1             1     31      2      1     12   \n",
       "1             1           2   2             0     27      1      1     12   \n",
       "2             2           3   3             0     33      1      4     12   \n",
       "3             3           4   4             0     34      2      4     12   \n",
       "4             4           5   5             0     47      2      1     12   \n",
       "\n",
       "            AP005    AP006  ...          PA022_D          PA023_D  \\\n",
       "0  2017/7/6 10:21      ios  ...               -1               -1   \n",
       "1  2017/4/6 12:51       h5  ...               -1               -1   \n",
       "2  2017/7/1 14:11       h5  ...               -1               -1   \n",
       "3  2017/7/7 10:10  android  ...               -1               -1   \n",
       "4  2017/7/6 14:37       h5  ...  (-99.001, -1.0]  (-99.001, -1.0]   \n",
       "\n",
       "            PA029_D  AP003_WOE  AP008_WOE  CR015_WOE  CR019_WOE  PA022_D_WOE  \\\n",
       "0               -98       0.17       0.01       0.15       0.17        -0.15   \n",
       "1               -98       0.17       0.10      -0.27      -0.19        -0.15   \n",
       "2               -98      -0.51      -0.09      -0.03       0.13        -0.15   \n",
       "3               -98      -0.51       0.10       0.08      -0.07        -0.15   \n",
       "4  (-99.001, -98.0]       0.17       0.10      -0.27      -0.19        -0.30   \n",
       "\n",
       "   PA023_D_WOE  PA029_D_WOE  \n",
       "0        -0.12        -0.13  \n",
       "1        -0.12        -0.13  \n",
       "2        -0.12        -0.13  \n",
       "3        -0.12        -0.13  \n",
       "4        -0.30        -0.30  \n",
       "\n",
       "[5 rows x 99 columns]"
      ]
     },
     "execution_count": 32,
     "metadata": {},
     "output_type": "execute_result"
    }
   ],
   "source": [
    "# the first 5 records of df dataset after WOE for applicate variables\n",
    "df.head()"
   ]
  },
  {
   "cell_type": "code",
   "execution_count": 52,
   "id": "a4d9be9e",
   "metadata": {},
   "outputs": [],
   "source": [
    "features_afterWOE = ['AP001','AP003_WOE','AP008_WOE',\n",
    "                     'CR009','CR015_WOE','CR019',\n",
    "                     'PA022_D_WOE','PA023_D_WOE','PA029_D_WOE',\n",
    "                     'TD001','TD005','TD006','TD009','TD010','TD014']"
   ]
  },
  {
   "cell_type": "code",
   "execution_count": 53,
   "id": "3b6d8321",
   "metadata": {},
   "outputs": [
    {
     "name": "stdout",
     "output_type": "stream",
     "text": [
      "<class 'pandas.core.frame.DataFrame'>\n",
      "Int64Index: 80000 entries, 0 to 79999\n",
      "Data columns (total 15 columns):\n",
      " #   Column       Non-Null Count  Dtype  \n",
      "---  ------       --------------  -----  \n",
      " 0   AP001        80000 non-null  int64  \n",
      " 1   AP003_WOE    80000 non-null  float64\n",
      " 2   AP008_WOE    80000 non-null  float64\n",
      " 3   CR009        80000 non-null  int64  \n",
      " 4   CR015_WOE    80000 non-null  float64\n",
      " 5   CR019        80000 non-null  int64  \n",
      " 6   PA022_D_WOE  80000 non-null  float64\n",
      " 7   PA023_D_WOE  80000 non-null  float64\n",
      " 8   PA029_D_WOE  80000 non-null  float64\n",
      " 9   TD001        80000 non-null  int64  \n",
      " 10  TD005        80000 non-null  int64  \n",
      " 11  TD006        80000 non-null  int64  \n",
      " 12  TD009        80000 non-null  int64  \n",
      " 13  TD010        80000 non-null  int64  \n",
      " 14  TD014        80000 non-null  int64  \n",
      "dtypes: float64(6), int64(9)\n",
      "memory usage: 9.8 MB\n"
     ]
    }
   ],
   "source": [
    "df[features_afterWOE].info()"
   ]
  },
  {
   "cell_type": "markdown",
   "id": "b132696e",
   "metadata": {},
   "source": [
    "#### [Back to the top](#0)"
   ]
  },
  {
   "cell_type": "markdown",
   "id": "e1a45cb4",
   "metadata": {},
   "source": [
    "## 3. Building a Random Forest Model <a class=\"anchor\" id=\"3\"></a>\n",
    "### 3.1 Dataset Preparation<a class=\"anchor\" id=\"31\"></a>"
   ]
  },
  {
   "cell_type": "markdown",
   "id": "481cb8cd",
   "metadata": {},
   "source": [
    "Then, split the dataset into \"train\" and \"test\" dataset for future training."
   ]
  },
  {
   "cell_type": "code",
   "execution_count": 54,
   "id": "04a56cf9",
   "metadata": {},
   "outputs": [],
   "source": [
    "\n",
    "# Split the dataset\n",
    "from sklearn.model_selection import train_test_split\n",
    "X_train, X_test, Y_train, Y_test = train_test_split(df[features_afterWOE],\n",
    "                                                    df['loan_default'], \n",
    "                                                    random_state=0)"
   ]
  },
  {
   "cell_type": "markdown",
   "id": "aba91cae",
   "metadata": {},
   "source": [
    "### 3.2 Build a RF model"
   ]
  },
  {
   "cell_type": "code",
   "execution_count": 55,
   "id": "e8146665",
   "metadata": {},
   "outputs": [
    {
     "name": "stdout",
     "output_type": "stream",
     "text": [
      "[0.0210396  0.20122575 0.01867779 0.04041376 0.08834891 0.01679118\n",
      " 0.02798055 0.02733836 0.03417229 0.02598741 0.05591912 0.01750306\n",
      " 0.35863309 0.01498283 0.05098629]\n"
     ]
    }
   ],
   "source": [
    "model = RandomForestRegressor(max_depth=6, random_state=0, n_estimators=10)\n",
    "model.fit(X_train, Y_train)  \n",
    "print(model.feature_importances_)"
   ]
  },
  {
   "cell_type": "markdown",
   "id": "ab86b89b",
   "metadata": {},
   "source": [
    "#### The Importance of the Features"
   ]
  },
  {
   "cell_type": "code",
   "execution_count": 56,
   "id": "3f200fbb",
   "metadata": {},
   "outputs": [
    {
     "data": {
      "image/png": "[encoded data removed]",
      "text/plain": [
       "<Figure size 432x288 with 1 Axes>"
      ]
     },
     "metadata": {
      "needs_background": "light"
     },
     "output_type": "display_data"
    }
   ],
   "source": [
    "importances = model.feature_importances_\n",
    "indices = np.argsort(importances)\n",
    "\n",
    "features = X_train.columns\n",
    "plt.title('Feature Importances')\n",
    "plt.barh(range(len(indices)), importances[indices], color='b', align='center')\n",
    "plt.yticks(range(len(indices)), [features[i] for i in indices])\n",
    "plt.xlabel('Relative Importance')\n",
    "plt.show()"
   ]
  },
  {
   "cell_type": "markdown",
   "id": "5ddee253",
   "metadata": {},
   "source": [
    "## 4. SHAP Value\n",
    "SHAP values (SHapley Additive exPlanations) is a method based on cooperative game theory and used to increase transparency and interpretability of machine learning models."
   ]
  },
  {
   "cell_type": "code",
   "execution_count": 36,
   "id": "48ec0782",
   "metadata": {},
   "outputs": [],
   "source": [
    "# !pip install shap"
   ]
  },
  {
   "cell_type": "code",
   "execution_count": 37,
   "id": "190d62af",
   "metadata": {},
   "outputs": [],
   "source": [
    "# !pip install numba==0.56.2\n",
    "# !pip install llvmlite==0.39.1"
   ]
  },
  {
   "cell_type": "code",
   "execution_count": 38,
   "id": "787b4438",
   "metadata": {},
   "outputs": [],
   "source": [
    "import shap"
   ]
  },
  {
   "cell_type": "code",
   "execution_count": 57,
   "id": "babad496",
   "metadata": {},
   "outputs": [],
   "source": [
    "shap_values = shap.TreeExplainer(model).shap_values(X_train)"
   ]
  },
  {
   "cell_type": "code",
   "execution_count": 62,
   "id": "9981b59d",
   "metadata": {},
   "outputs": [
    {
     "data": {
      "image/png": "[encoded data removed]",
      "text/plain": [
       "<Figure size 576x540 with 1 Axes>"
      ]
     },
     "metadata": {
      "needs_background": "light"
     },
     "output_type": "display_data"
    }
   ],
   "source": [
    "shap.summary_plot(shap_values, X_train, plot_type=\"bar\")"
   ]
  },
  {
   "cell_type": "markdown",
   "id": "b78c15b2",
   "metadata": {},
   "source": [
    "The above variable importance plot show the directions between the features and the target variable, which is the power of the Shap value plot as shown below.   \n",
    "This plot is made of many dots. Each dot has three characteristics. The graph below plots the SHAP values of every feature for every sample. It shorts features by the total of absolute SHAP values over all samples. The color represents the feature value (red high, blue low).\n",
    "\n",
    "The vertical location shows the feature importance.  \n",
    "The horizontal location shows whether the effect of that value caused a higher or lower prediction.  \n",
    "Color shows whether that feature was high or low for that observation.  "
   ]
  },
  {
   "cell_type": "markdown",
   "id": "2c131bd6",
   "metadata": {},
   "source": [
    "### 4.1 SHAP Plot <a class=\"anchor\" id=\"4\"></a>\n"
   ]
  },
  {
   "cell_type": "code",
   "execution_count": 63,
   "id": "d6f34be9",
   "metadata": {},
   "outputs": [
    {
     "data": {
      "image/png": "[encoded data removed]",
      "text/plain": [
       "<Figure size 432x288 with 1 Axes>"
      ]
     },
     "metadata": {
      "needs_background": "light"
     },
     "output_type": "display_data"
    }
   ],
   "source": [
    "def ABS_SHAP(df_shap,df):\n",
    "    #import matplotlib as plt\n",
    "    # Make a copy of the input data\n",
    "    shap_v = pd.DataFrame(df_shap)\n",
    "    feature_list = df.columns\n",
    "    shap_v.columns = feature_list\n",
    "    df_v = df.copy().reset_index().drop('index',axis=1)\n",
    "    \n",
    "    # Determine the correlation in order to plot with different colors\n",
    "    corr_list = list()\n",
    "    for i in feature_list:\n",
    "        b = np.corrcoef(shap_v[i],df_v[i])[1][0]\n",
    "        corr_list.append(b)\n",
    "    corr_df = pd.concat([pd.Series(feature_list),pd.Series(corr_list)],axis=1).fillna(0)\n",
    "    # Make a data frame. Column 1 is the feature, and Column 2 is the correlation coefficient\n",
    "    corr_df.columns  = ['Variable','Corr']\n",
    "    corr_df['Sign'] = np.where(corr_df['Corr']>0,'red','blue')\n",
    "    \n",
    "    # Plot it\n",
    "    shap_abs = np.abs(shap_v)\n",
    "    k=pd.DataFrame(shap_abs.mean()).reset_index()\n",
    "    k.columns = ['Variable','SHAP_abs']\n",
    "    k2 = k.merge(corr_df,left_on = 'Variable',right_on='Variable',how='inner')\n",
    "    k2 = k2.sort_values(by='SHAP_abs',ascending = True)\n",
    "    colorlist = k2['Sign']\n",
    "    ax = k2.plot.barh(x='Variable',y='SHAP_abs',color = colorlist, figsize=(6,4),legend=False)\n",
    "    ax.set_xlabel(\"SHAP Value (Red = Positive Impact)\")\n",
    "    \n",
    "ABS_SHAP(shap_values,X_train)  "
   ]
  },
  {
   "cell_type": "markdown",
   "id": "87005b9b",
   "metadata": {},
   "source": [
    "The graph above shows that 'AP003_WOE' and 'TD009' have the highest impact on the loan default and the impact are positive. The variables with blue bars ('CR009', 'AP001', and 'CR019') have negtive impact on the target."
   ]
  },
  {
   "cell_type": "markdown",
   "id": "0ac89088",
   "metadata": {},
   "source": [
    "### Summery Plot"
   ]
  },
  {
   "cell_type": "code",
   "execution_count": 68,
   "id": "1a91c7fc",
   "metadata": {},
   "outputs": [
    {
     "data": {
      "image/png": "[encoded data removed]",
      "text/plain": [
       "<Figure size 576x540 with 2 Axes>"
      ]
     },
     "metadata": {
      "needs_background": "light"
     },
     "output_type": "display_data"
    }
   ],
   "source": [
    "shap.summary_plot(shap_values, X_train)"
   ]
  },
  {
   "cell_type": "markdown",
   "id": "c9e34140",
   "metadata": {},
   "source": [
    "We can describe the model. The idetification of loan default is associated with the following characteristics:\n",
    "* 'AP003_WOE', 'TD009', 'CR015_WOE', 'TD014', 'PA029_D_WOE', 'TD005', 'PA023_D_WOE', 'PA022_D_WOE', 'AP008_WOE', 'TD010', 'TD006', 'TD001', and 'AP001' have positive impact on the loan default. \n",
    "* High values for 'AP003_WOE', 'TD009', 'CR015_WOE', 'TD014', 'PA029_D_WOE', 'TD005', 'TD010', 'TD006', 'TD001', and 'AP001' are all associated with higher SHAP values;\n",
    "* 'CR009' and 'CR019' have negative impact on the loan default.\n"
   ]
  },
  {
   "cell_type": "markdown",
   "id": "df22b4f2",
   "metadata": {},
   "source": [
    "### Dependence_Plot"
   ]
  },
  {
   "cell_type": "markdown",
   "id": "251c565e",
   "metadata": {},
   "source": [
    "To understand how a single feature effects the output of the model we can plot the SHAP value of that feature vs. the value of the feature for all the examples in a dataset. \n",
    "Vertical dispersion at a single value of selected feature represents interaction effects with other features. To help reveal these interactions, dependence_plot automatically selects another feature for coloring."
   ]
  },
  {
   "cell_type": "markdown",
   "id": "0d484f35",
   "metadata": {},
   "source": [
    "#### AP003 - education level/code\n",
    "Since SHAP values represent a feature's responsibility for a change in the model output, the plot below represents the change in predicted loan default as 'AP003'(education level/code) changes. "
   ]
  },
  {
   "cell_type": "code",
   "execution_count": 84,
   "id": "3eff31b1",
   "metadata": {
    "scrolled": false
   },
   "outputs": [
    {
     "data": {
      "image/png": "[encoded data removed]",
      "text/plain": [
       "<Figure size 540x360 with 2 Axes>"
      ]
     },
     "metadata": {
      "needs_background": "light"
     },
     "output_type": "display_data"
    }
   ],
   "source": [
    "shap.dependence_plot(\"AP003_WOE\", shap_values, X_train)"
   ]
  },
  {
   "cell_type": "markdown",
   "id": "97c4b17c",
   "metadata": {},
   "source": [
    "The education level impact on the loan fault despite the level of the amount of track-data query for P2P in last 3 months."
   ]
  },
  {
   "cell_type": "markdown",
   "id": "56f51fc6",
   "metadata": {},
   "source": [
    "#### TD009 - the amount of track-data query for P2P in last 3 months"
   ]
  },
  {
   "cell_type": "code",
   "execution_count": 71,
   "id": "74a93ae9",
   "metadata": {
    "scrolled": true
   },
   "outputs": [
    {
     "data": {
      "image/png": "[encoded data removed]",
      "text/plain": [
       "<Figure size 540x360 with 2 Axes>"
      ]
     },
     "metadata": {
      "needs_background": "light"
     },
     "output_type": "display_data"
    }
   ],
   "source": [
    "shap.dependence_plot(\"TD009\", shap_values, X_train)"
   ]
  },
  {
   "cell_type": "markdown",
   "id": "57a326d8",
   "metadata": {},
   "source": [
    "From the graph above, we can see that the amount of track-data query for P2P in last 3 months has less impact on loan default with a low 'AP003_WOE', which indicates high education level."
   ]
  },
  {
   "cell_type": "markdown",
   "id": "0888639b",
   "metadata": {},
   "source": [
    "#### CR015_WOE - MONTH_CREDIT_CARD_MOB_MAX"
   ]
  },
  {
   "cell_type": "code",
   "execution_count": 72,
   "id": "74f15389",
   "metadata": {},
   "outputs": [
    {
     "data": {
      "image/png": "[encoded data removed]",
      "text/plain": [
       "<Figure size 540x360 with 2 Axes>"
      ]
     },
     "metadata": {
      "needs_background": "light"
     },
     "output_type": "display_data"
    }
   ],
   "source": [
    "shap.dependence_plot(\"CR015_WOE\", shap_values, X_train, show=False)\n",
    "plt.show()"
   ]
  },
  {
   "cell_type": "markdown",
   "id": "215bcd20",
   "metadata": {},
   "source": [
    "From the graph above, we can see that the max MOB in a month has less impact on loan default with a low 'AP003_WOE', which indicates high education level."
   ]
  },
  {
   "cell_type": "code",
   "execution_count": 85,
   "id": "8c388a82",
   "metadata": {
    "scrolled": false
   },
   "outputs": [
    {
     "data": {
      "image/png": "[encoded data removed]",
      "text/plain": [
       "<Figure size 828x475.2 with 7 Axes>"
      ]
     },
     "metadata": {
      "needs_background": "light"
     },
     "output_type": "display_data"
    }
   ],
   "source": [
    "# We explain the first 2,000 people in order to run quicker as an example.\n",
    "shap_interaction_values = shap.TreeExplainer(model).shap_interaction_values(X_train.iloc[:2000,:])\n",
    "\n",
    "shap.summary_plot(shap_interaction_values, X_train.iloc[:2000,:])"
   ]
  },
  {
   "cell_type": "markdown",
   "id": "21666f04",
   "metadata": {},
   "source": [
    "By pointing out important main and interaction effects, this plot can give a similar insight to the absolute mean plot. Specifically, we can see the cells that have high SHAP values correspond to the same cells with high absolute mean values in feature importance plot. The summary plot gives additional insight by visualising the nature of the relationships. For example, we can see that the main effects of the AP003, TD009, TD014 are all positive."
   ]
  },
  {
   "cell_type": "markdown",
   "id": "35e3854c",
   "metadata": {},
   "source": [
    "### Force Plot\n",
    "We can see how the features impact on single observation by defining a shap_plot.  \n",
    "* Output value: is the prediction for that observation\n",
    "* Base value: The base value E(y_hat) is \"the value that would be predicted if we did not know any features for the current output.\" In other words, it is the mean prediction, or mean(yhat).\n",
    "* Features: The above explanation shows features that contributes to push the final prediction away from the base value.\n",
    "* Red/blue: Those features that push the prediction higher (to the right) are shown in red, and those pushing the prediction lower are in blue. "
   ]
  },
  {
   "cell_type": "code",
   "execution_count": null,
   "id": "ad95cd75",
   "metadata": {},
   "outputs": [],
   "source": [
    "shap.initjs()"
   ]
  },
  {
   "cell_type": "code",
   "execution_count": 76,
   "id": "938c926b",
   "metadata": {},
   "outputs": [],
   "source": [
    "def shap_plot(j):\n",
    "    explainerModel = shap.TreeExplainer(model)\n",
    "    shap_values_Model = explainerModel.shap_values(S)\n",
    "    p = shap.force_plot(explainerModel.expected_value, shap_values_Model[j], S.iloc[[j]])\n",
    "    return(p)"
   ]
  },
  {
   "cell_type": "code",
   "execution_count": 77,
   "id": "eb5f3de1",
   "metadata": {},
   "outputs": [
    {
     "data": {
      "text/plain": [
       "AP001             31.692400\n",
       "AP003_WOE         -0.198939\n",
       "AP008_WOE         -0.001466\n",
       "CR009          35170.332250\n",
       "CR015_WOE         -0.013169\n",
       "CR019              6.191950\n",
       "PA022_D_WOE       -0.011040\n",
       "PA023_D_WOE       -0.007451\n",
       "PA029_D_WOE       -0.010815\n",
       "TD001              1.992450\n",
       "TD005              3.599217\n",
       "TD006              1.347567\n",
       "TD009              5.414867\n",
       "TD010              2.023183\n",
       "TD014              2.607933\n",
       "dtype: float64"
      ]
     },
     "execution_count": 77,
     "metadata": {},
     "output_type": "execute_result"
    }
   ],
   "source": [
    "X_train.mean()"
   ]
  },
  {
   "cell_type": "code",
   "execution_count": 78,
   "id": "c491c762",
   "metadata": {},
   "outputs": [
    {
     "data": {
      "text/plain": [
       "0.18875"
      ]
     },
     "execution_count": 78,
     "metadata": {},
     "output_type": "execute_result"
    }
   ],
   "source": [
    "Y_test.mean()"
   ]
  },
  {
   "cell_type": "markdown",
   "id": "79f181a7",
   "metadata": {},
   "source": [
    "#### The SHAP plot of the first observation"
   ]
  },
  {
   "cell_type": "code",
   "execution_count": 79,
   "id": "ee259744",
   "metadata": {
    "scrolled": false
   },
   "outputs": [
    {
     "data": {
      "text/html": [
       "\n",
       "<div id='i5GB2T7SFL9J4A8J4ERZ6'>\n",
       "<div style='color: #900; text-align: center;'>\n",
       "  <b>Visualization omitted, Javascript library not loaded!</b><br>\n",
       "  Have you run `initjs()` in this notebook? If this notebook was from another\n",
       "  user you must also trust this notebook (File -> Trust notebook). If you are viewing\n",
       "  this notebook on github the Javascript has been stripped for security. If you are using\n",
       "  JupyterLab this error is because a JupyterLab extension has not yet been written.\n",
       "</div></div>\n",
       " <script>\n",
       "   if (window.SHAP) SHAP.ReactDom.render(\n",
       "    SHAP.React.createElement(SHAP.AdditiveForceVisualizer, {\"outNames\": [\"f(x)\"], \"baseValue\": 0.1957866666666667, \"outValue\": 0.2091943998550515, \"link\": \"identity\", \"featureNames\": [\"AP001\", \"AP003_WOE\", \"AP008_WOE\", \"CR009\", \"CR015_WOE\", \"CR019\", \"PA022_D_WOE\", \"PA023_D_WOE\", \"PA029_D_WOE\", \"TD001\", \"TD005\", \"TD006\", \"TD009\", \"TD010\", \"TD014\", \"predict\"], \"features\": {\"0\": {\"effect\": 0.0005846106531724014, \"value\": 25.0}, \"1\": {\"effect\": -0.029771909327757345, \"value\": -0.13}, \"2\": {\"effect\": 0.003895275743303268, \"value\": 0.1}, \"3\": {\"effect\": 0.0015207889597906637, \"value\": 17387.0}, \"4\": {\"effect\": 0.014581369478368734, \"value\": 0.15}, \"5\": {\"effect\": 0.001370223787197524, \"value\": 2.0}, \"6\": {\"effect\": -0.005056451599531354, \"value\": -0.15}, \"7\": {\"effect\": -0.004727183320143185, \"value\": -0.12}, \"8\": {\"effect\": -0.003970315138359249, \"value\": -0.13}, \"9\": {\"effect\": -0.0008082107994332042, \"value\": 2.0}, \"10\": {\"effect\": 0.0005846304896066049, \"value\": 5.0}, \"11\": {\"effect\": -0.0014229502985958745, \"value\": 1.0}, \"12\": {\"effect\": 0.04138021899610534, \"value\": 7.0}, \"13\": {\"effect\": -0.00042181478959645545, \"value\": 1.0}, \"14\": {\"effect\": -0.00433054964574307, \"value\": 1.0}}, \"plot_cmap\": \"RdBu\", \"labelMargin\": 20}),\n",
       "    document.getElementById('i5GB2T7SFL9J4A8J4ERZ6')\n",
       "  );\n",
       "</script>"
      ],
      "text/plain": [
       "<shap.plots._force.AdditiveForceVisualizer at 0x2db19e2e0>"
      ]
     },
     "execution_count": 79,
     "metadata": {},
     "output_type": "execute_result"
    }
   ],
   "source": [
    "shap_plot(0)"
   ]
  },
  {
   "cell_type": "markdown",
   "id": "531536bf",
   "metadata": {},
   "source": [
    "* Base value: 0.21\n",
    "* Features:\n",
    " - POSITIVE impact on the loan default\n",
    "   * TD009(TD_CNT_QUERY_LAST_3MON_P2P): The the amount of track-data query for P2P in last 3 months is 7 which is higher than the average value 5.41. So it pushes the prediction to the right.\n",
    "   * CR015_WOE(MONTH_CREDIT_CARD_MOB_MAX): A higher than the average MONTH_CREDIT_CARD_MOB_MAX (= 0.15 > -0.013) drives the prediction to the right.\n",
    "   * AP008_WOE(FLAG_IP_CITY_NOT_APPL_CITY): A higher than the average (= 0.1 > -0.001) pushes the prediction to the right.\n",
    " - NEGATIVE impact on the loan default\n",
    "   * AP003_WOE(CODE_EDUCATION): The education level is -0.13 which is higher than the average value -0.20. So it pushes the prediction to the right.\n",
    "   * PA022_D_WOE(DAYS_BTW_APPLICATION_AND_FIRST_COLLECTION_OR_HIGH_RISK_CALL): A lower than the average the days between application and first collection or high risk call(= -0.15 < -0.01) drives the prediction to the left.\n",
    "   * PA023_D_WOE(DAYS_BTW_APPLICATION_AND_FIRST_COLLECTION_CALL): A higher than the average (= 0.1 > -0.001) pushes the prediction to the left."
   ]
  },
  {
   "cell_type": "code",
   "execution_count": 81,
   "id": "cc9621d9",
   "metadata": {},
   "outputs": [
    {
     "data": {
      "text/html": [
       "\n",
       "<div id='i23W01MMYL0X66E5B8LX8'>\n",
       "<div style='color: #900; text-align: center;'>\n",
       "  <b>Visualization omitted, Javascript library not loaded!</b><br>\n",
       "  Have you run `initjs()` in this notebook? If this notebook was from another\n",
       "  user you must also trust this notebook (File -> Trust notebook). If you are viewing\n",
       "  this notebook on github the Javascript has been stripped for security. If you are using\n",
       "  JupyterLab this error is because a JupyterLab extension has not yet been written.\n",
       "</div></div>\n",
       " <script>\n",
       "   if (window.SHAP) SHAP.ReactDom.render(\n",
       "    SHAP.React.createElement(SHAP.AdditiveForceVisualizer, {\"outNames\": [\"f(x)\"], \"baseValue\": 0.1957866666666667, \"outValue\": 0.16785462608851703, \"link\": \"identity\", \"featureNames\": [\"AP001\", \"AP003_WOE\", \"AP008_WOE\", \"CR009\", \"CR015_WOE\", \"CR019\", \"PA022_D_WOE\", \"PA023_D_WOE\", \"PA029_D_WOE\", \"TD001\", \"TD005\", \"TD006\", \"TD009\", \"TD010\", \"TD014\", \"predict\"], \"features\": {\"0\": {\"effect\": 0.0003310199581821694, \"value\": 47.0}, \"1\": {\"effect\": 0.01754114677190003, \"value\": 0.17}, \"2\": {\"effect\": 0.0026840214120785783, \"value\": 0.1}, \"3\": {\"effect\": -0.000519441258834825, \"value\": 13500.0}, \"4\": {\"effect\": -0.05826877565321038, \"value\": -0.27}, \"5\": {\"effect\": 0.00010898750758517046, \"value\": 12.0}, \"6\": {\"effect\": 0.00818653446157226, \"value\": 0.3}, \"7\": {\"effect\": -0.006263604721987272, \"value\": -0.12}, \"8\": {\"effect\": 0.017755000276112685, \"value\": 0.37}, \"9\": {\"effect\": 0.005818934829627746, \"value\": 5.0}, \"10\": {\"effect\": 0.007104172229901183, \"value\": 5.0}, \"11\": {\"effect\": 1.9897995826114667e-06, \"value\": 1.0}, \"12\": {\"effect\": -0.013787102864739002, \"value\": 5.0}, \"13\": {\"effect\": -0.0006423202513675401, \"value\": 1.0}, \"14\": {\"effect\": -0.00798260307455308, \"value\": 1.0}}, \"plot_cmap\": \"RdBu\", \"labelMargin\": 20}),\n",
       "    document.getElementById('i23W01MMYL0X66E5B8LX8')\n",
       "  );\n",
       "</script>"
      ],
      "text/plain": [
       "<shap.plots._force.AdditiveForceVisualizer at 0x2db2912e0>"
      ]
     },
     "execution_count": 81,
     "metadata": {},
     "output_type": "execute_result"
    }
   ],
   "source": [
    "shap_plot(2)"
   ]
  },
  {
   "cell_type": "markdown",
   "id": "a72cd62b",
   "metadata": {},
   "source": [
    "* Base value: 0.17\n",
    "* Features:\n",
    " - POSITIVE impact on the loan default\n",
    "   * PA022_D_WOE(DAYS_BTW_APPLICATION_AND_FIRST_COLLECTION_OR_HIGH_RISK_CALL): A higher than the average the days between application and first collection or high risk call(= 0.3 > -0.01) drives the prediction to the right. \n",
    "   * AP003_WOE(CODE_EDUCATION): The education level is 0.17 which is higher than the average value -0.20. So it pushes the prediction to the right.\n",
    "   * PA029_D_WOE(AVG_LEN_COLLECTION_OR_HIGH_RISK_INBOUND_CALLS): The average length\n",
    "   \n",
    "   of collection or high risk inbound calls is 0.37, which is higher than the average value -0.01. So it pushes the prediction to the right.\n",
    "\n",
    " - NEGATIVE impact on the loan default\n",
    "   * CR015_WOE(MONTH_CREDIT_CARD_MOB_MAX): A lower than the average MONTH_CREDIT_CARD_MOB_MAX (= -0.27 > -0.013) drives the prediction to the left.\n",
    "   * TD009(TD_CNT_QUERY_LAST_3MON_P2P): The the amount of track-data query for P2P in last 3 months is 5 which is lower than the average value 5.41. So it pushes the prediction to the left.\n",
    "   * TD014(TD_CNT_QUERY_LAST_6MON_SMALL_LOAN): The the amount of track-data query for small loan in last 6 months is 1 which is higher than the average value 2.61. So it pushes the prediction to the right.\n",
    "   * PA023_D_WOE(DAYS_BTW_APPLICATION_AND_FIRST_COLLECTION_CALL): A lower than the average (= -0.12 < -0.001) pushes the prediction to the right."
   ]
  },
  {
   "cell_type": "code",
   "execution_count": 83,
   "id": "9727a447",
   "metadata": {},
   "outputs": [
    {
     "data": {
      "text/html": [
       "\n",
       "<div id='iNJMJZ3G8OQT9UGCW2P6H'>\n",
       "<div style='color: #900; text-align: center;'>\n",
       "  <b>Visualization omitted, Javascript library not loaded!</b><br>\n",
       "  Have you run `initjs()` in this notebook? If this notebook was from another\n",
       "  user you must also trust this notebook (File -> Trust notebook). If you are viewing\n",
       "  this notebook on github the Javascript has been stripped for security. If you are using\n",
       "  JupyterLab this error is because a JupyterLab extension has not yet been written.\n",
       "</div></div>\n",
       " <script>\n",
       "   if (window.SHAP) SHAP.ReactDom.render(\n",
       "    SHAP.React.createElement(SHAP.AdditiveForceVisualizer, {\"outNames\": [\"f(x)\"], \"baseValue\": 0.1957866666666667, \"outValue\": 0.13897510791267365, \"link\": \"identity\", \"featureNames\": [\"AP001\", \"AP003_WOE\", \"AP008_WOE\", \"CR009\", \"CR015_WOE\", \"CR019\", \"PA022_D_WOE\", \"PA023_D_WOE\", \"PA029_D_WOE\", \"TD001\", \"TD005\", \"TD006\", \"TD009\", \"TD010\", \"TD014\", \"predict\"], \"features\": {\"0\": {\"effect\": -0.0008382812235873565, \"value\": 38.0}, \"1\": {\"effect\": 0.024774882725949327, \"value\": 0.17}, \"2\": {\"effect\": 0.0013354063978079666, \"value\": 0.1}, \"3\": {\"effect\": 0.003162473336076973, \"value\": 0.0}, \"4\": {\"effect\": 0.013612987530772492, \"value\": 0.08}, \"5\": {\"effect\": -0.0001075416291606578, \"value\": 5.0}, \"6\": {\"effect\": -0.004113351922542816, \"value\": -0.15}, \"7\": {\"effect\": -0.003030591695505091, \"value\": -0.12}, \"8\": {\"effect\": -0.0046197360244163805, \"value\": -0.13}, \"9\": {\"effect\": -0.0018969430765836746, \"value\": 0.0}, \"10\": {\"effect\": -0.014362854249995446, \"value\": 0.0}, \"11\": {\"effect\": -0.0006556088492224348, \"value\": 0.0}, \"12\": {\"effect\": -0.06339456178123189, \"value\": 0.0}, \"13\": {\"effect\": 7.029008880629799e-05, \"value\": 0.0}, \"14\": {\"effect\": -0.006748128381160335, \"value\": 0.0}}, \"plot_cmap\": \"RdBu\", \"labelMargin\": 20}),\n",
       "    document.getElementById('iNJMJZ3G8OQT9UGCW2P6H')\n",
       "  );\n",
       "</script>"
      ],
      "text/plain": [
       "<shap.plots._force.AdditiveForceVisualizer at 0x2db1a4af0>"
      ]
     },
     "execution_count": 83,
     "metadata": {},
     "output_type": "execute_result"
    }
   ],
   "source": [
    "shap_plot(4)"
   ]
  },
  {
   "cell_type": "markdown",
   "id": "b19ed845",
   "metadata": {},
   "source": [
    "* Base value: 0.14\n",
    "* Features:\n",
    " - POSITIVE impact on the loan default\n",
    "   * CR009(AMT_LOAN_TOTAL): the total amount of loan is 0, which is lower than the avrage value 35170.33. So it pushes the prediction to the left.\n",
    "   * CR015_WOE(MONTH_CREDIT_CARD_MOB_MAX): A higher than the average MONTH_CREDIT_CARD_MOB_MAX (= 0.08 > -0.013) drives the prediction to the right.\n",
    "   * AP003_WOE(CODE_EDUCATION): The education level is 0.17 which is higher than the average value -0.20. So it pushes the prediction to the right.\n",
    "\n",
    " - NEGATIVE impact on the loan default\n",
    "   * TD009(TD_CNT_QUERY_LAST_3MON_P2P): The the amount of track-data query for P2P in last 3 months is 0 which is lower than the average value 5.41. So it pushes the prediction to the left.\n",
    "   * TD005(TD_CNT_QUERY_LAST_1MON_P2P): The the amount of track-data query for P2P in last 1 month is 0 which is lower than the average value 3.60. So it pushes the prediction to the left.\n",
    "   * TD014(TD_CNT_QUERY_LAST_6MON_SMALL_LOAN): The the amount of track-data query for small loan in last 6 months is 0 which is lower than the average value 2.61. So it pushes the prediction to the left.\n",
    "   * PA029_D_WOE(AVG_LEN_COLLECTION_OR_HIGH_RISK_INBOUND_CALLS): The average length of collection or high risk inbound calls is -0.13, which is lower than the average value -0.01. So it pushes the prediction to the left.\n",
    "   * PA022_D_WOE(DAYS_BTW_APPLICATION_AND_FIRST_COLLECTION_OR_HIGH_RISK_CALL): A higher than the average the days between application and first collection or high risk call(= -0.15 < -0.01) drives the prediction to the left. "
   ]
  },
  {
   "cell_type": "code",
   "execution_count": 89,
   "id": "6e7777e8",
   "metadata": {},
   "outputs": [
    {
     "data": {
      "text/html": [
       "\n",
       "<div id='iHHQ34MA125CJ70YVX490'>\n",
       "<div style='color: #900; text-align: center;'>\n",
       "  <b>Visualization omitted, Javascript library not loaded!</b><br>\n",
       "  Have you run `initjs()` in this notebook? If this notebook was from another\n",
       "  user you must also trust this notebook (File -> Trust notebook). If you are viewing\n",
       "  this notebook on github the Javascript has been stripped for security. If you are using\n",
       "  JupyterLab this error is because a JupyterLab extension has not yet been written.\n",
       "</div></div>\n",
       " <script>\n",
       "   if (window.SHAP) SHAP.ReactDom.render(\n",
       "    SHAP.React.createElement(SHAP.AdditiveForceVisualizer, {\"outNames\": [\"f(x)\"], \"baseValue\": 0.1957866666666667, \"outValue\": 0.2221159138355832, \"link\": \"identity\", \"featureNames\": [\"AP001\", \"AP003_WOE\", \"AP008_WOE\", \"CR009\", \"CR015_WOE\", \"CR019\", \"PA022_D_WOE\", \"PA023_D_WOE\", \"PA029_D_WOE\", \"TD001\", \"TD005\", \"TD006\", \"TD009\", \"TD010\", \"TD014\", \"predict\"], \"features\": {\"0\": {\"effect\": 0.0016133734729509228, \"value\": 27.0}, \"1\": {\"effect\": -0.04375150377169089, \"value\": -0.13}, \"2\": {\"effect\": -0.0012245300306175252, \"value\": 0.01}, \"3\": {\"effect\": 0.0011298226706003786, \"value\": 20135.0}, \"4\": {\"effect\": -0.02179093116671585, \"value\": -0.27}, \"5\": {\"effect\": 0.001124024236450524, \"value\": 5.0}, \"6\": {\"effect\": 0.014072825018833033, \"value\": 0.27}, \"7\": {\"effect\": -0.0037302017556077546, \"value\": -0.12}, \"8\": {\"effect\": -0.004188476552892703, \"value\": 0.1}, \"9\": {\"effect\": 0.007193130781407706, \"value\": 6.0}, \"10\": {\"effect\": 0.011612764713277796, \"value\": 8.0}, \"11\": {\"effect\": -5.496449365136714e-05, \"value\": 3.0}, \"12\": {\"effect\": 0.06616451154853467, \"value\": 12.0}, \"13\": {\"effect\": 7.442432953530821e-05, \"value\": 3.0}, \"14\": {\"effect\": -0.001915021831497741, \"value\": 3.0}}, \"plot_cmap\": \"RdBu\", \"labelMargin\": 20}),\n",
       "    document.getElementById('iHHQ34MA125CJ70YVX490')\n",
       "  );\n",
       "</script>"
      ],
      "text/plain": [
       "<shap.plots._force.AdditiveForceVisualizer at 0x2db16dfa0>"
      ]
     },
     "execution_count": 89,
     "metadata": {},
     "output_type": "execute_result"
    }
   ],
   "source": [
    "shap_plot(5)"
   ]
  },
  {
   "cell_type": "markdown",
   "id": "2c916246",
   "metadata": {},
   "source": [
    "* Base value: 0.22\n",
    "* Features:\n",
    " - POSITIVE impact on the loan default\n",
    "   * TD009(TD_CNT_QUERY_LAST_3MON_P2P): The the amount of track-data query for P2P in last 3 months is 12 which is higher than the average value 5.41. So it pushes the prediction to the right.\n",
    "   * PA022_D_WOE(DAYS_BTW_APPLICATION_AND_FIRST_COLLECTION_OR_HIGH_RISK_CALL): A higher than the average the days between application and first collection or high risk call(= 0.27 > -0.01) drives the prediction to the right. \n",
    "   * TD005(TD_CNT_QUERY_LAST_1MON_P2P): The the amount of track-data query for P2P in last 1 month is 8 which is higher than the average value 3.60. So it pushes the prediction to the right.\n",
    "   * TD001(TD_CNT_QUERY_LAST_7Day_P2P): The the amount of track-data query for P2P in last 7 days is 6 which is higher than the average value 1.99. So it pushes the prediction to the right.\n",
    "\n",
    " - NEGATIVE impact on the loan default\n",
    "   * AP003_WOE(CODE_EDUCATION): The education level is -0.13 which is higher than the average value -0.20. So it pushes the prediction to the right.\n",
    "   * CR015_WOE(MONTH_CREDIT_CARD_MOB_MAX): A lower than the average MONTH_CREDIT_CARD_MOB_MAX (= -0.27 < -0.013) drives the prediction to the left.\n",
    "   * PA029_D_WOE(AVG_LEN_COLLECTION_OR_HIGH_RISK_INBOUND_CALLS): The average length of collection or high risk inbound calls is 0.1, which is higher than the average value -0.01. So it pushes the prediction to the right.\n"
   ]
  },
  {
   "cell_type": "markdown",
   "id": "f189f5c3",
   "metadata": {},
   "source": [
    "## 5. Conclusion <a class=\"anchor\" id=\"5\"></a>\n",
    "In this report, we select 15 features and conduct variable transformation including missing imputation, categorical binning and WOE for the Scikit-learn method. The WOE Transformation can enhance the model's performance as well. We then train a random forest model on the transformed data and use SHAP value to see how much each factor in a model has contributed to the prediction. Specifically, we use summary plot, dependence plot and force plot to identify and visualise important relationships in this model.\n",
    "\n",
    "\n",
    "Some important findings include:\n",
    "* 'AP003_WOE'(education level) and 'TD009'(the amount of track-data query for P2P in last 3 months) have the highest impact on the loan default and the impact are positive. Noted that 'AP003_WOE' has been WOE transformed, the higher education level in the practice should associate with lower loan default, which aligns with the instinct. \n",
    "* High values for 'AP003_WOE', 'TD009', 'CR015_WOE', 'TD014', 'PA029_D_WOE', 'TD005', 'TD010', 'TD006', 'TD001', and 'AP001' are all associated with higher SHAP values.\n",
    "* For the dependence between two variables, we found that the amount of track-data query for P2P in last 3 months has less impact on loan default with a low 'AP003_WOE', which indicates high education level.\n",
    "* We also see some observations's influence. For example, for one of the observations, 'TD009'(the the amount of track-data query for P2P in last 3 months), 'CR015_WOE'(MONTH_CREDIT_CARD_MOB_MAX)and 'AP008_WOE'(FLAG_IP_CITY_NOT_APPL_CITY) have POSITIVE impact on the loan default, while 'AP003_WOE'(education level), 'PA022_D_WOE'(the days between application and first collection or high risk call) and 'PA023'(the days between application and first collection) have negtive impact on the loan default."
   ]
  },
  {
   "cell_type": "markdown",
   "id": "7de0f3d7",
   "metadata": {},
   "source": [
    "#### [Back to the top](#0)"
   ]
  }
 ],
 "metadata": {
  "kernelspec": {
   "display_name": "Python 3 (ipykernel)",
   "language": "python",
   "name": "python3"
  },
  "language_info": {
   "codemirror_mode": {
    "name": "ipython",
    "version": 3
   },
   "file_extension": ".py",
   "mimetype": "text/x-python",
   "name": "python",
   "nbconvert_exporter": "python",
   "pygments_lexer": "ipython3",
   "version": "3.9.12"
  }
 },
 "nbformat": 4,
 "nbformat_minor": 5
}
